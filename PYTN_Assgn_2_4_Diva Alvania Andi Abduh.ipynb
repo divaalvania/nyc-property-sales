{
 "cells": [
  {
   "cell_type": "markdown",
   "id": "52cb3098",
   "metadata": {},
   "source": [
    "# About Dataset"
   ]
  },
  {
   "cell_type": "markdown",
   "id": "a9b23b52",
   "metadata": {},
   "source": [
    "## Project Overview:\n",
    "This dataset is a record of every building unit (apartment, etc.) sold in the New York City property market over a 12-month period.\n",
    "\n",
    "The Dataset Contains:\n",
    "The location, address, type, sale price, and sale date of building units sold. A reference on the trickier fields:\n",
    "* BORORUGH : A digit code for the borough the property is located in; in order these are Manhattan(1), Bronx(2), Brooklyn(3), Queens(4), and Staten Island(5).\n",
    "* BLOCK; LOT : The combination of borough, block, and lot forms a unique key for property in New York City. Commonly called a BBL.\n",
    "* BUILDING CLASS AT PRESENT and BUILDING CLASS AT TIME OF SALE : The type of building at various points in time.\n",
    "\n",
    "Note that because this is a financial transaction dataset, there are some points that need to be kept in mind:\n",
    "\n",
    "* Many sales occur with a nonsensically small dollar amount : $0 most commonly. These sales are actually transfers of deeds between parties: for example, parents transferring ownership to their home to a child after moving out for retirement.\n",
    "* This dataset uses the financial definition of a building/building unit, for tax puposes. In case a single entity owns the building ini question, a sale covers the value of the entire buildding. In case a building is owned piecemeal by its residents (a condominium), a sale refers to single apartement (or group of apartement) owned by some individual."
   ]
  },
  {
   "cell_type": "markdown",
   "id": "a91f5071",
   "metadata": {},
   "source": [
    "---"
   ]
  },
  {
   "cell_type": "markdown",
   "id": "e4d6feb2",
   "metadata": {},
   "source": [
    "# Import Libraries"
   ]
  },
  {
   "cell_type": "code",
   "execution_count": 1,
   "id": "99f85646",
   "metadata": {},
   "outputs": [],
   "source": [
    "# library untuk DataFrame\n",
    "import numpy as np \n",
    "import pandas as pd\n",
    "\n",
    "# library untuk analisis\n",
    "import matplotlib.pyplot as plt\n",
    "import seaborn as sns\n",
    "import math\n",
    "import statistics\n",
    "import scipy.stats\n",
    "from datetime import datetime\n",
    "from scipy.stats import t\n",
    "from scipy.stats import ttest_ind\n",
    "\n",
    "# me-non aktifkan peringatan pada python\n",
    "import warnings\n",
    "warnings.filterwarnings('ignore')"
   ]
  },
  {
   "cell_type": "markdown",
   "id": "5c4b8e79",
   "metadata": {},
   "source": [
    "## Data Loading"
   ]
  },
  {
   "cell_type": "code",
   "execution_count": 2,
   "id": "a24a4ec1",
   "metadata": {},
   "outputs": [
    {
     "name": "stdout",
     "output_type": "stream",
     "text": [
      "NYC Property Sales\n"
     ]
    },
    {
     "data": {
      "text/html": [
       "<div>\n",
       "<style scoped>\n",
       "    .dataframe tbody tr th:only-of-type {\n",
       "        vertical-align: middle;\n",
       "    }\n",
       "\n",
       "    .dataframe tbody tr th {\n",
       "        vertical-align: top;\n",
       "    }\n",
       "\n",
       "    .dataframe thead th {\n",
       "        text-align: right;\n",
       "    }\n",
       "</style>\n",
       "<table border=\"1\" class=\"dataframe\">\n",
       "  <thead>\n",
       "    <tr style=\"text-align: right;\">\n",
       "      <th></th>\n",
       "      <th>Unnamed: 0</th>\n",
       "      <th>BOROUGH</th>\n",
       "      <th>NEIGHBORHOOD</th>\n",
       "      <th>BUILDING CLASS CATEGORY</th>\n",
       "      <th>TAX CLASS AT PRESENT</th>\n",
       "      <th>BLOCK</th>\n",
       "      <th>LOT</th>\n",
       "      <th>EASE-MENT</th>\n",
       "      <th>BUILDING CLASS AT PRESENT</th>\n",
       "      <th>ADDRESS</th>\n",
       "      <th>APARTMENT NUMBER</th>\n",
       "      <th>ZIP CODE</th>\n",
       "      <th>RESIDENTIAL UNITS</th>\n",
       "      <th>COMMERCIAL UNITS</th>\n",
       "      <th>TOTAL UNITS</th>\n",
       "      <th>LAND SQUARE FEET</th>\n",
       "      <th>GROSS SQUARE FEET</th>\n",
       "      <th>YEAR BUILT</th>\n",
       "      <th>TAX CLASS AT TIME OF SALE</th>\n",
       "      <th>BUILDING CLASS AT TIME OF SALE</th>\n",
       "      <th>SALE PRICE</th>\n",
       "      <th>SALE DATE</th>\n",
       "    </tr>\n",
       "  </thead>\n",
       "  <tbody>\n",
       "    <tr>\n",
       "      <th>0</th>\n",
       "      <td>4</td>\n",
       "      <td>1</td>\n",
       "      <td>ALPHABET CITY</td>\n",
       "      <td>07 RENTALS - WALKUP APARTMENTS</td>\n",
       "      <td>2A</td>\n",
       "      <td>392</td>\n",
       "      <td>6</td>\n",
       "      <td></td>\n",
       "      <td>C2</td>\n",
       "      <td>153 AVENUE B</td>\n",
       "      <td></td>\n",
       "      <td>10009</td>\n",
       "      <td>5</td>\n",
       "      <td>0</td>\n",
       "      <td>5</td>\n",
       "      <td>1633</td>\n",
       "      <td>6440</td>\n",
       "      <td>1900</td>\n",
       "      <td>2</td>\n",
       "      <td>C2</td>\n",
       "      <td>6625000</td>\n",
       "      <td>2017-07-19 00:00:00</td>\n",
       "    </tr>\n",
       "    <tr>\n",
       "      <th>1</th>\n",
       "      <td>5</td>\n",
       "      <td>1</td>\n",
       "      <td>ALPHABET CITY</td>\n",
       "      <td>07 RENTALS - WALKUP APARTMENTS</td>\n",
       "      <td>2</td>\n",
       "      <td>399</td>\n",
       "      <td>26</td>\n",
       "      <td></td>\n",
       "      <td>C7</td>\n",
       "      <td>234 EAST 4TH   STREET</td>\n",
       "      <td></td>\n",
       "      <td>10009</td>\n",
       "      <td>28</td>\n",
       "      <td>3</td>\n",
       "      <td>31</td>\n",
       "      <td>4616</td>\n",
       "      <td>18690</td>\n",
       "      <td>1900</td>\n",
       "      <td>2</td>\n",
       "      <td>C7</td>\n",
       "      <td>-</td>\n",
       "      <td>2016-12-14 00:00:00</td>\n",
       "    </tr>\n",
       "    <tr>\n",
       "      <th>2</th>\n",
       "      <td>6</td>\n",
       "      <td>1</td>\n",
       "      <td>ALPHABET CITY</td>\n",
       "      <td>07 RENTALS - WALKUP APARTMENTS</td>\n",
       "      <td>2</td>\n",
       "      <td>399</td>\n",
       "      <td>39</td>\n",
       "      <td></td>\n",
       "      <td>C7</td>\n",
       "      <td>197 EAST 3RD   STREET</td>\n",
       "      <td></td>\n",
       "      <td>10009</td>\n",
       "      <td>16</td>\n",
       "      <td>1</td>\n",
       "      <td>17</td>\n",
       "      <td>2212</td>\n",
       "      <td>7803</td>\n",
       "      <td>1900</td>\n",
       "      <td>2</td>\n",
       "      <td>C7</td>\n",
       "      <td>-</td>\n",
       "      <td>2016-12-09 00:00:00</td>\n",
       "    </tr>\n",
       "    <tr>\n",
       "      <th>3</th>\n",
       "      <td>7</td>\n",
       "      <td>1</td>\n",
       "      <td>ALPHABET CITY</td>\n",
       "      <td>07 RENTALS - WALKUP APARTMENTS</td>\n",
       "      <td>2B</td>\n",
       "      <td>402</td>\n",
       "      <td>21</td>\n",
       "      <td></td>\n",
       "      <td>C4</td>\n",
       "      <td>154 EAST 7TH STREET</td>\n",
       "      <td></td>\n",
       "      <td>10009</td>\n",
       "      <td>10</td>\n",
       "      <td>0</td>\n",
       "      <td>10</td>\n",
       "      <td>2272</td>\n",
       "      <td>6794</td>\n",
       "      <td>1913</td>\n",
       "      <td>2</td>\n",
       "      <td>C4</td>\n",
       "      <td>3936272</td>\n",
       "      <td>2016-09-23 00:00:00</td>\n",
       "    </tr>\n",
       "    <tr>\n",
       "      <th>4</th>\n",
       "      <td>8</td>\n",
       "      <td>1</td>\n",
       "      <td>ALPHABET CITY</td>\n",
       "      <td>07 RENTALS - WALKUP APARTMENTS</td>\n",
       "      <td>2A</td>\n",
       "      <td>404</td>\n",
       "      <td>55</td>\n",
       "      <td></td>\n",
       "      <td>C2</td>\n",
       "      <td>301 EAST 10TH   STREET</td>\n",
       "      <td></td>\n",
       "      <td>10009</td>\n",
       "      <td>6</td>\n",
       "      <td>0</td>\n",
       "      <td>6</td>\n",
       "      <td>2369</td>\n",
       "      <td>4615</td>\n",
       "      <td>1900</td>\n",
       "      <td>2</td>\n",
       "      <td>C2</td>\n",
       "      <td>8000000</td>\n",
       "      <td>2016-11-17 00:00:00</td>\n",
       "    </tr>\n",
       "    <tr>\n",
       "      <th>...</th>\n",
       "      <td>...</td>\n",
       "      <td>...</td>\n",
       "      <td>...</td>\n",
       "      <td>...</td>\n",
       "      <td>...</td>\n",
       "      <td>...</td>\n",
       "      <td>...</td>\n",
       "      <td>...</td>\n",
       "      <td>...</td>\n",
       "      <td>...</td>\n",
       "      <td>...</td>\n",
       "      <td>...</td>\n",
       "      <td>...</td>\n",
       "      <td>...</td>\n",
       "      <td>...</td>\n",
       "      <td>...</td>\n",
       "      <td>...</td>\n",
       "      <td>...</td>\n",
       "      <td>...</td>\n",
       "      <td>...</td>\n",
       "      <td>...</td>\n",
       "      <td>...</td>\n",
       "    </tr>\n",
       "    <tr>\n",
       "      <th>84543</th>\n",
       "      <td>8409</td>\n",
       "      <td>5</td>\n",
       "      <td>WOODROW</td>\n",
       "      <td>02 TWO FAMILY DWELLINGS</td>\n",
       "      <td>1</td>\n",
       "      <td>7349</td>\n",
       "      <td>34</td>\n",
       "      <td></td>\n",
       "      <td>B9</td>\n",
       "      <td>37 QUAIL LANE</td>\n",
       "      <td></td>\n",
       "      <td>10309</td>\n",
       "      <td>2</td>\n",
       "      <td>0</td>\n",
       "      <td>2</td>\n",
       "      <td>2400</td>\n",
       "      <td>2575</td>\n",
       "      <td>1998</td>\n",
       "      <td>1</td>\n",
       "      <td>B9</td>\n",
       "      <td>450000</td>\n",
       "      <td>2016-11-28 00:00:00</td>\n",
       "    </tr>\n",
       "    <tr>\n",
       "      <th>84544</th>\n",
       "      <td>8410</td>\n",
       "      <td>5</td>\n",
       "      <td>WOODROW</td>\n",
       "      <td>02 TWO FAMILY DWELLINGS</td>\n",
       "      <td>1</td>\n",
       "      <td>7349</td>\n",
       "      <td>78</td>\n",
       "      <td></td>\n",
       "      <td>B9</td>\n",
       "      <td>32 PHEASANT LANE</td>\n",
       "      <td></td>\n",
       "      <td>10309</td>\n",
       "      <td>2</td>\n",
       "      <td>0</td>\n",
       "      <td>2</td>\n",
       "      <td>2498</td>\n",
       "      <td>2377</td>\n",
       "      <td>1998</td>\n",
       "      <td>1</td>\n",
       "      <td>B9</td>\n",
       "      <td>550000</td>\n",
       "      <td>2017-04-21 00:00:00</td>\n",
       "    </tr>\n",
       "    <tr>\n",
       "      <th>84545</th>\n",
       "      <td>8411</td>\n",
       "      <td>5</td>\n",
       "      <td>WOODROW</td>\n",
       "      <td>02 TWO FAMILY DWELLINGS</td>\n",
       "      <td>1</td>\n",
       "      <td>7351</td>\n",
       "      <td>60</td>\n",
       "      <td></td>\n",
       "      <td>B2</td>\n",
       "      <td>49 PITNEY AVENUE</td>\n",
       "      <td></td>\n",
       "      <td>10309</td>\n",
       "      <td>2</td>\n",
       "      <td>0</td>\n",
       "      <td>2</td>\n",
       "      <td>4000</td>\n",
       "      <td>1496</td>\n",
       "      <td>1925</td>\n",
       "      <td>1</td>\n",
       "      <td>B2</td>\n",
       "      <td>460000</td>\n",
       "      <td>2017-07-05 00:00:00</td>\n",
       "    </tr>\n",
       "    <tr>\n",
       "      <th>84546</th>\n",
       "      <td>8412</td>\n",
       "      <td>5</td>\n",
       "      <td>WOODROW</td>\n",
       "      <td>22 STORE BUILDINGS</td>\n",
       "      <td>4</td>\n",
       "      <td>7100</td>\n",
       "      <td>28</td>\n",
       "      <td></td>\n",
       "      <td>K6</td>\n",
       "      <td>2730 ARTHUR KILL ROAD</td>\n",
       "      <td></td>\n",
       "      <td>10309</td>\n",
       "      <td>0</td>\n",
       "      <td>7</td>\n",
       "      <td>7</td>\n",
       "      <td>208033</td>\n",
       "      <td>64117</td>\n",
       "      <td>2001</td>\n",
       "      <td>4</td>\n",
       "      <td>K6</td>\n",
       "      <td>11693337</td>\n",
       "      <td>2016-12-21 00:00:00</td>\n",
       "    </tr>\n",
       "    <tr>\n",
       "      <th>84547</th>\n",
       "      <td>8413</td>\n",
       "      <td>5</td>\n",
       "      <td>WOODROW</td>\n",
       "      <td>35 INDOOR PUBLIC AND CULTURAL FACILITIES</td>\n",
       "      <td>4</td>\n",
       "      <td>7105</td>\n",
       "      <td>679</td>\n",
       "      <td></td>\n",
       "      <td>P9</td>\n",
       "      <td>155 CLAY PIT ROAD</td>\n",
       "      <td></td>\n",
       "      <td>10309</td>\n",
       "      <td>0</td>\n",
       "      <td>1</td>\n",
       "      <td>1</td>\n",
       "      <td>10796</td>\n",
       "      <td>2400</td>\n",
       "      <td>2006</td>\n",
       "      <td>4</td>\n",
       "      <td>P9</td>\n",
       "      <td>69300</td>\n",
       "      <td>2016-10-27 00:00:00</td>\n",
       "    </tr>\n",
       "  </tbody>\n",
       "</table>\n",
       "<p>84548 rows × 22 columns</p>\n",
       "</div>"
      ],
      "text/plain": [
       "       Unnamed: 0  BOROUGH   NEIGHBORHOOD  \\\n",
       "0               4        1  ALPHABET CITY   \n",
       "1               5        1  ALPHABET CITY   \n",
       "2               6        1  ALPHABET CITY   \n",
       "3               7        1  ALPHABET CITY   \n",
       "4               8        1  ALPHABET CITY   \n",
       "...           ...      ...            ...   \n",
       "84543        8409        5        WOODROW   \n",
       "84544        8410        5        WOODROW   \n",
       "84545        8411        5        WOODROW   \n",
       "84546        8412        5        WOODROW   \n",
       "84547        8413        5        WOODROW   \n",
       "\n",
       "                           BUILDING CLASS CATEGORY TAX CLASS AT PRESENT  \\\n",
       "0      07 RENTALS - WALKUP APARTMENTS                                2A   \n",
       "1      07 RENTALS - WALKUP APARTMENTS                                 2   \n",
       "2      07 RENTALS - WALKUP APARTMENTS                                 2   \n",
       "3      07 RENTALS - WALKUP APARTMENTS                                2B   \n",
       "4      07 RENTALS - WALKUP APARTMENTS                                2A   \n",
       "...                                            ...                  ...   \n",
       "84543  02 TWO FAMILY DWELLINGS                                        1   \n",
       "84544  02 TWO FAMILY DWELLINGS                                        1   \n",
       "84545  02 TWO FAMILY DWELLINGS                                        1   \n",
       "84546  22 STORE BUILDINGS                                             4   \n",
       "84547  35 INDOOR PUBLIC AND CULTURAL FACILITIES                       4   \n",
       "\n",
       "       BLOCK  LOT EASE-MENT BUILDING CLASS AT PRESENT                 ADDRESS  \\\n",
       "0        392    6                                  C2            153 AVENUE B   \n",
       "1        399   26                                  C7   234 EAST 4TH   STREET   \n",
       "2        399   39                                  C7   197 EAST 3RD   STREET   \n",
       "3        402   21                                  C4     154 EAST 7TH STREET   \n",
       "4        404   55                                  C2  301 EAST 10TH   STREET   \n",
       "...      ...  ...       ...                       ...                     ...   \n",
       "84543   7349   34                                  B9           37 QUAIL LANE   \n",
       "84544   7349   78                                  B9        32 PHEASANT LANE   \n",
       "84545   7351   60                                  B2        49 PITNEY AVENUE   \n",
       "84546   7100   28                                  K6   2730 ARTHUR KILL ROAD   \n",
       "84547   7105  679                                  P9       155 CLAY PIT ROAD   \n",
       "\n",
       "      APARTMENT NUMBER  ZIP CODE  RESIDENTIAL UNITS  COMMERCIAL UNITS  \\\n",
       "0                          10009                  5                 0   \n",
       "1                          10009                 28                 3   \n",
       "2                          10009                 16                 1   \n",
       "3                          10009                 10                 0   \n",
       "4                          10009                  6                 0   \n",
       "...                ...       ...                ...               ...   \n",
       "84543                      10309                  2                 0   \n",
       "84544                      10309                  2                 0   \n",
       "84545                      10309                  2                 0   \n",
       "84546                      10309                  0                 7   \n",
       "84547                      10309                  0                 1   \n",
       "\n",
       "       TOTAL UNITS LAND SQUARE FEET GROSS SQUARE FEET  YEAR BUILT  \\\n",
       "0                5             1633              6440        1900   \n",
       "1               31             4616             18690        1900   \n",
       "2               17             2212              7803        1900   \n",
       "3               10             2272              6794        1913   \n",
       "4                6             2369              4615        1900   \n",
       "...            ...              ...               ...         ...   \n",
       "84543            2             2400              2575        1998   \n",
       "84544            2             2498              2377        1998   \n",
       "84545            2             4000              1496        1925   \n",
       "84546            7           208033             64117        2001   \n",
       "84547            1            10796              2400        2006   \n",
       "\n",
       "       TAX CLASS AT TIME OF SALE BUILDING CLASS AT TIME OF SALE SALE PRICE  \\\n",
       "0                              2                             C2    6625000   \n",
       "1                              2                             C7        -     \n",
       "2                              2                             C7        -     \n",
       "3                              2                             C4    3936272   \n",
       "4                              2                             C2    8000000   \n",
       "...                          ...                            ...        ...   \n",
       "84543                          1                             B9     450000   \n",
       "84544                          1                             B9     550000   \n",
       "84545                          1                             B2     460000   \n",
       "84546                          4                             K6   11693337   \n",
       "84547                          4                             P9      69300   \n",
       "\n",
       "                 SALE DATE  \n",
       "0      2017-07-19 00:00:00  \n",
       "1      2016-12-14 00:00:00  \n",
       "2      2016-12-09 00:00:00  \n",
       "3      2016-09-23 00:00:00  \n",
       "4      2016-11-17 00:00:00  \n",
       "...                    ...  \n",
       "84543  2016-11-28 00:00:00  \n",
       "84544  2017-04-21 00:00:00  \n",
       "84545  2017-07-05 00:00:00  \n",
       "84546  2016-12-21 00:00:00  \n",
       "84547  2016-10-27 00:00:00  \n",
       "\n",
       "[84548 rows x 22 columns]"
      ]
     },
     "execution_count": 2,
     "metadata": {},
     "output_type": "execute_result"
    }
   ],
   "source": [
    "# membaca dataset\n",
    "df = pd.read_csv('nyc-rolling-sales.csv')\n",
    "\n",
    "# menampilkan semua kolom\n",
    "pd.set_option('display.max_columns', 22)\n",
    "\n",
    "print('NYC Property Sales')\n",
    "df"
   ]
  },
  {
   "cell_type": "code",
   "execution_count": 3,
   "id": "e541d405",
   "metadata": {},
   "outputs": [
    {
     "data": {
      "text/html": [
       "<div>\n",
       "<style scoped>\n",
       "    .dataframe tbody tr th:only-of-type {\n",
       "        vertical-align: middle;\n",
       "    }\n",
       "\n",
       "    .dataframe tbody tr th {\n",
       "        vertical-align: top;\n",
       "    }\n",
       "\n",
       "    .dataframe thead th {\n",
       "        text-align: right;\n",
       "    }\n",
       "</style>\n",
       "<table border=\"1\" class=\"dataframe\">\n",
       "  <thead>\n",
       "    <tr style=\"text-align: right;\">\n",
       "      <th></th>\n",
       "      <th>Unnamed: 0</th>\n",
       "      <th>BOROUGH</th>\n",
       "      <th>NEIGHBORHOOD</th>\n",
       "      <th>BUILDING CLASS CATEGORY</th>\n",
       "      <th>TAX CLASS AT PRESENT</th>\n",
       "      <th>BLOCK</th>\n",
       "      <th>LOT</th>\n",
       "      <th>EASE-MENT</th>\n",
       "      <th>BUILDING CLASS AT PRESENT</th>\n",
       "      <th>ADDRESS</th>\n",
       "      <th>APARTMENT NUMBER</th>\n",
       "      <th>ZIP CODE</th>\n",
       "      <th>RESIDENTIAL UNITS</th>\n",
       "      <th>COMMERCIAL UNITS</th>\n",
       "      <th>TOTAL UNITS</th>\n",
       "      <th>LAND SQUARE FEET</th>\n",
       "      <th>GROSS SQUARE FEET</th>\n",
       "      <th>YEAR BUILT</th>\n",
       "      <th>TAX CLASS AT TIME OF SALE</th>\n",
       "      <th>BUILDING CLASS AT TIME OF SALE</th>\n",
       "      <th>SALE PRICE</th>\n",
       "      <th>SALE DATE</th>\n",
       "    </tr>\n",
       "  </thead>\n",
       "  <tbody>\n",
       "    <tr>\n",
       "      <th>0</th>\n",
       "      <td>4</td>\n",
       "      <td>1</td>\n",
       "      <td>ALPHABET CITY</td>\n",
       "      <td>07 RENTALS - WALKUP APARTMENTS</td>\n",
       "      <td>2A</td>\n",
       "      <td>392</td>\n",
       "      <td>6</td>\n",
       "      <td></td>\n",
       "      <td>C2</td>\n",
       "      <td>153 AVENUE B</td>\n",
       "      <td></td>\n",
       "      <td>10009</td>\n",
       "      <td>5</td>\n",
       "      <td>0</td>\n",
       "      <td>5</td>\n",
       "      <td>1633</td>\n",
       "      <td>6440</td>\n",
       "      <td>1900</td>\n",
       "      <td>2</td>\n",
       "      <td>C2</td>\n",
       "      <td>6625000</td>\n",
       "      <td>2017-07-19 00:00:00</td>\n",
       "    </tr>\n",
       "    <tr>\n",
       "      <th>1</th>\n",
       "      <td>5</td>\n",
       "      <td>1</td>\n",
       "      <td>ALPHABET CITY</td>\n",
       "      <td>07 RENTALS - WALKUP APARTMENTS</td>\n",
       "      <td>2</td>\n",
       "      <td>399</td>\n",
       "      <td>26</td>\n",
       "      <td></td>\n",
       "      <td>C7</td>\n",
       "      <td>234 EAST 4TH   STREET</td>\n",
       "      <td></td>\n",
       "      <td>10009</td>\n",
       "      <td>28</td>\n",
       "      <td>3</td>\n",
       "      <td>31</td>\n",
       "      <td>4616</td>\n",
       "      <td>18690</td>\n",
       "      <td>1900</td>\n",
       "      <td>2</td>\n",
       "      <td>C7</td>\n",
       "      <td>-</td>\n",
       "      <td>2016-12-14 00:00:00</td>\n",
       "    </tr>\n",
       "    <tr>\n",
       "      <th>2</th>\n",
       "      <td>6</td>\n",
       "      <td>1</td>\n",
       "      <td>ALPHABET CITY</td>\n",
       "      <td>07 RENTALS - WALKUP APARTMENTS</td>\n",
       "      <td>2</td>\n",
       "      <td>399</td>\n",
       "      <td>39</td>\n",
       "      <td></td>\n",
       "      <td>C7</td>\n",
       "      <td>197 EAST 3RD   STREET</td>\n",
       "      <td></td>\n",
       "      <td>10009</td>\n",
       "      <td>16</td>\n",
       "      <td>1</td>\n",
       "      <td>17</td>\n",
       "      <td>2212</td>\n",
       "      <td>7803</td>\n",
       "      <td>1900</td>\n",
       "      <td>2</td>\n",
       "      <td>C7</td>\n",
       "      <td>-</td>\n",
       "      <td>2016-12-09 00:00:00</td>\n",
       "    </tr>\n",
       "    <tr>\n",
       "      <th>3</th>\n",
       "      <td>7</td>\n",
       "      <td>1</td>\n",
       "      <td>ALPHABET CITY</td>\n",
       "      <td>07 RENTALS - WALKUP APARTMENTS</td>\n",
       "      <td>2B</td>\n",
       "      <td>402</td>\n",
       "      <td>21</td>\n",
       "      <td></td>\n",
       "      <td>C4</td>\n",
       "      <td>154 EAST 7TH STREET</td>\n",
       "      <td></td>\n",
       "      <td>10009</td>\n",
       "      <td>10</td>\n",
       "      <td>0</td>\n",
       "      <td>10</td>\n",
       "      <td>2272</td>\n",
       "      <td>6794</td>\n",
       "      <td>1913</td>\n",
       "      <td>2</td>\n",
       "      <td>C4</td>\n",
       "      <td>3936272</td>\n",
       "      <td>2016-09-23 00:00:00</td>\n",
       "    </tr>\n",
       "    <tr>\n",
       "      <th>4</th>\n",
       "      <td>8</td>\n",
       "      <td>1</td>\n",
       "      <td>ALPHABET CITY</td>\n",
       "      <td>07 RENTALS - WALKUP APARTMENTS</td>\n",
       "      <td>2A</td>\n",
       "      <td>404</td>\n",
       "      <td>55</td>\n",
       "      <td></td>\n",
       "      <td>C2</td>\n",
       "      <td>301 EAST 10TH   STREET</td>\n",
       "      <td></td>\n",
       "      <td>10009</td>\n",
       "      <td>6</td>\n",
       "      <td>0</td>\n",
       "      <td>6</td>\n",
       "      <td>2369</td>\n",
       "      <td>4615</td>\n",
       "      <td>1900</td>\n",
       "      <td>2</td>\n",
       "      <td>C2</td>\n",
       "      <td>8000000</td>\n",
       "      <td>2016-11-17 00:00:00</td>\n",
       "    </tr>\n",
       "  </tbody>\n",
       "</table>\n",
       "</div>"
      ],
      "text/plain": [
       "   Unnamed: 0  BOROUGH   NEIGHBORHOOD  \\\n",
       "0           4        1  ALPHABET CITY   \n",
       "1           5        1  ALPHABET CITY   \n",
       "2           6        1  ALPHABET CITY   \n",
       "3           7        1  ALPHABET CITY   \n",
       "4           8        1  ALPHABET CITY   \n",
       "\n",
       "                       BUILDING CLASS CATEGORY TAX CLASS AT PRESENT  BLOCK  \\\n",
       "0  07 RENTALS - WALKUP APARTMENTS                                2A    392   \n",
       "1  07 RENTALS - WALKUP APARTMENTS                                 2    399   \n",
       "2  07 RENTALS - WALKUP APARTMENTS                                 2    399   \n",
       "3  07 RENTALS - WALKUP APARTMENTS                                2B    402   \n",
       "4  07 RENTALS - WALKUP APARTMENTS                                2A    404   \n",
       "\n",
       "   LOT EASE-MENT BUILDING CLASS AT PRESENT                 ADDRESS  \\\n",
       "0    6                                  C2            153 AVENUE B   \n",
       "1   26                                  C7   234 EAST 4TH   STREET   \n",
       "2   39                                  C7   197 EAST 3RD   STREET   \n",
       "3   21                                  C4     154 EAST 7TH STREET   \n",
       "4   55                                  C2  301 EAST 10TH   STREET   \n",
       "\n",
       "  APARTMENT NUMBER  ZIP CODE  RESIDENTIAL UNITS  COMMERCIAL UNITS  \\\n",
       "0                      10009                  5                 0   \n",
       "1                      10009                 28                 3   \n",
       "2                      10009                 16                 1   \n",
       "3                      10009                 10                 0   \n",
       "4                      10009                  6                 0   \n",
       "\n",
       "   TOTAL UNITS LAND SQUARE FEET GROSS SQUARE FEET  YEAR BUILT  \\\n",
       "0            5             1633              6440        1900   \n",
       "1           31             4616             18690        1900   \n",
       "2           17             2212              7803        1900   \n",
       "3           10             2272              6794        1913   \n",
       "4            6             2369              4615        1900   \n",
       "\n",
       "   TAX CLASS AT TIME OF SALE BUILDING CLASS AT TIME OF SALE SALE PRICE  \\\n",
       "0                          2                             C2    6625000   \n",
       "1                          2                             C7        -     \n",
       "2                          2                             C7        -     \n",
       "3                          2                             C4    3936272   \n",
       "4                          2                             C2    8000000   \n",
       "\n",
       "             SALE DATE  \n",
       "0  2017-07-19 00:00:00  \n",
       "1  2016-12-14 00:00:00  \n",
       "2  2016-12-09 00:00:00  \n",
       "3  2016-09-23 00:00:00  \n",
       "4  2016-11-17 00:00:00  "
      ]
     },
     "execution_count": 3,
     "metadata": {},
     "output_type": "execute_result"
    }
   ],
   "source": [
    "# menampilkan 5 data teratas\n",
    "df.head()"
   ]
  },
  {
   "cell_type": "code",
   "execution_count": 4,
   "id": "010b6515",
   "metadata": {},
   "outputs": [
    {
     "data": {
      "text/html": [
       "<div>\n",
       "<style scoped>\n",
       "    .dataframe tbody tr th:only-of-type {\n",
       "        vertical-align: middle;\n",
       "    }\n",
       "\n",
       "    .dataframe tbody tr th {\n",
       "        vertical-align: top;\n",
       "    }\n",
       "\n",
       "    .dataframe thead th {\n",
       "        text-align: right;\n",
       "    }\n",
       "</style>\n",
       "<table border=\"1\" class=\"dataframe\">\n",
       "  <thead>\n",
       "    <tr style=\"text-align: right;\">\n",
       "      <th></th>\n",
       "      <th>Unnamed: 0</th>\n",
       "      <th>BOROUGH</th>\n",
       "      <th>NEIGHBORHOOD</th>\n",
       "      <th>BUILDING CLASS CATEGORY</th>\n",
       "      <th>TAX CLASS AT PRESENT</th>\n",
       "      <th>BLOCK</th>\n",
       "      <th>LOT</th>\n",
       "      <th>EASE-MENT</th>\n",
       "      <th>BUILDING CLASS AT PRESENT</th>\n",
       "      <th>ADDRESS</th>\n",
       "      <th>APARTMENT NUMBER</th>\n",
       "      <th>ZIP CODE</th>\n",
       "      <th>RESIDENTIAL UNITS</th>\n",
       "      <th>COMMERCIAL UNITS</th>\n",
       "      <th>TOTAL UNITS</th>\n",
       "      <th>LAND SQUARE FEET</th>\n",
       "      <th>GROSS SQUARE FEET</th>\n",
       "      <th>YEAR BUILT</th>\n",
       "      <th>TAX CLASS AT TIME OF SALE</th>\n",
       "      <th>BUILDING CLASS AT TIME OF SALE</th>\n",
       "      <th>SALE PRICE</th>\n",
       "      <th>SALE DATE</th>\n",
       "    </tr>\n",
       "  </thead>\n",
       "  <tbody>\n",
       "    <tr>\n",
       "      <th>84543</th>\n",
       "      <td>8409</td>\n",
       "      <td>5</td>\n",
       "      <td>WOODROW</td>\n",
       "      <td>02 TWO FAMILY DWELLINGS</td>\n",
       "      <td>1</td>\n",
       "      <td>7349</td>\n",
       "      <td>34</td>\n",
       "      <td></td>\n",
       "      <td>B9</td>\n",
       "      <td>37 QUAIL LANE</td>\n",
       "      <td></td>\n",
       "      <td>10309</td>\n",
       "      <td>2</td>\n",
       "      <td>0</td>\n",
       "      <td>2</td>\n",
       "      <td>2400</td>\n",
       "      <td>2575</td>\n",
       "      <td>1998</td>\n",
       "      <td>1</td>\n",
       "      <td>B9</td>\n",
       "      <td>450000</td>\n",
       "      <td>2016-11-28 00:00:00</td>\n",
       "    </tr>\n",
       "    <tr>\n",
       "      <th>84544</th>\n",
       "      <td>8410</td>\n",
       "      <td>5</td>\n",
       "      <td>WOODROW</td>\n",
       "      <td>02 TWO FAMILY DWELLINGS</td>\n",
       "      <td>1</td>\n",
       "      <td>7349</td>\n",
       "      <td>78</td>\n",
       "      <td></td>\n",
       "      <td>B9</td>\n",
       "      <td>32 PHEASANT LANE</td>\n",
       "      <td></td>\n",
       "      <td>10309</td>\n",
       "      <td>2</td>\n",
       "      <td>0</td>\n",
       "      <td>2</td>\n",
       "      <td>2498</td>\n",
       "      <td>2377</td>\n",
       "      <td>1998</td>\n",
       "      <td>1</td>\n",
       "      <td>B9</td>\n",
       "      <td>550000</td>\n",
       "      <td>2017-04-21 00:00:00</td>\n",
       "    </tr>\n",
       "    <tr>\n",
       "      <th>84545</th>\n",
       "      <td>8411</td>\n",
       "      <td>5</td>\n",
       "      <td>WOODROW</td>\n",
       "      <td>02 TWO FAMILY DWELLINGS</td>\n",
       "      <td>1</td>\n",
       "      <td>7351</td>\n",
       "      <td>60</td>\n",
       "      <td></td>\n",
       "      <td>B2</td>\n",
       "      <td>49 PITNEY AVENUE</td>\n",
       "      <td></td>\n",
       "      <td>10309</td>\n",
       "      <td>2</td>\n",
       "      <td>0</td>\n",
       "      <td>2</td>\n",
       "      <td>4000</td>\n",
       "      <td>1496</td>\n",
       "      <td>1925</td>\n",
       "      <td>1</td>\n",
       "      <td>B2</td>\n",
       "      <td>460000</td>\n",
       "      <td>2017-07-05 00:00:00</td>\n",
       "    </tr>\n",
       "    <tr>\n",
       "      <th>84546</th>\n",
       "      <td>8412</td>\n",
       "      <td>5</td>\n",
       "      <td>WOODROW</td>\n",
       "      <td>22 STORE BUILDINGS</td>\n",
       "      <td>4</td>\n",
       "      <td>7100</td>\n",
       "      <td>28</td>\n",
       "      <td></td>\n",
       "      <td>K6</td>\n",
       "      <td>2730 ARTHUR KILL ROAD</td>\n",
       "      <td></td>\n",
       "      <td>10309</td>\n",
       "      <td>0</td>\n",
       "      <td>7</td>\n",
       "      <td>7</td>\n",
       "      <td>208033</td>\n",
       "      <td>64117</td>\n",
       "      <td>2001</td>\n",
       "      <td>4</td>\n",
       "      <td>K6</td>\n",
       "      <td>11693337</td>\n",
       "      <td>2016-12-21 00:00:00</td>\n",
       "    </tr>\n",
       "    <tr>\n",
       "      <th>84547</th>\n",
       "      <td>8413</td>\n",
       "      <td>5</td>\n",
       "      <td>WOODROW</td>\n",
       "      <td>35 INDOOR PUBLIC AND CULTURAL FACILITIES</td>\n",
       "      <td>4</td>\n",
       "      <td>7105</td>\n",
       "      <td>679</td>\n",
       "      <td></td>\n",
       "      <td>P9</td>\n",
       "      <td>155 CLAY PIT ROAD</td>\n",
       "      <td></td>\n",
       "      <td>10309</td>\n",
       "      <td>0</td>\n",
       "      <td>1</td>\n",
       "      <td>1</td>\n",
       "      <td>10796</td>\n",
       "      <td>2400</td>\n",
       "      <td>2006</td>\n",
       "      <td>4</td>\n",
       "      <td>P9</td>\n",
       "      <td>69300</td>\n",
       "      <td>2016-10-27 00:00:00</td>\n",
       "    </tr>\n",
       "  </tbody>\n",
       "</table>\n",
       "</div>"
      ],
      "text/plain": [
       "       Unnamed: 0  BOROUGH NEIGHBORHOOD  \\\n",
       "84543        8409        5      WOODROW   \n",
       "84544        8410        5      WOODROW   \n",
       "84545        8411        5      WOODROW   \n",
       "84546        8412        5      WOODROW   \n",
       "84547        8413        5      WOODROW   \n",
       "\n",
       "                           BUILDING CLASS CATEGORY TAX CLASS AT PRESENT  \\\n",
       "84543  02 TWO FAMILY DWELLINGS                                        1   \n",
       "84544  02 TWO FAMILY DWELLINGS                                        1   \n",
       "84545  02 TWO FAMILY DWELLINGS                                        1   \n",
       "84546  22 STORE BUILDINGS                                             4   \n",
       "84547  35 INDOOR PUBLIC AND CULTURAL FACILITIES                       4   \n",
       "\n",
       "       BLOCK  LOT EASE-MENT BUILDING CLASS AT PRESENT                ADDRESS  \\\n",
       "84543   7349   34                                  B9          37 QUAIL LANE   \n",
       "84544   7349   78                                  B9       32 PHEASANT LANE   \n",
       "84545   7351   60                                  B2       49 PITNEY AVENUE   \n",
       "84546   7100   28                                  K6  2730 ARTHUR KILL ROAD   \n",
       "84547   7105  679                                  P9      155 CLAY PIT ROAD   \n",
       "\n",
       "      APARTMENT NUMBER  ZIP CODE  RESIDENTIAL UNITS  COMMERCIAL UNITS  \\\n",
       "84543                      10309                  2                 0   \n",
       "84544                      10309                  2                 0   \n",
       "84545                      10309                  2                 0   \n",
       "84546                      10309                  0                 7   \n",
       "84547                      10309                  0                 1   \n",
       "\n",
       "       TOTAL UNITS LAND SQUARE FEET GROSS SQUARE FEET  YEAR BUILT  \\\n",
       "84543            2             2400              2575        1998   \n",
       "84544            2             2498              2377        1998   \n",
       "84545            2             4000              1496        1925   \n",
       "84546            7           208033             64117        2001   \n",
       "84547            1            10796              2400        2006   \n",
       "\n",
       "       TAX CLASS AT TIME OF SALE BUILDING CLASS AT TIME OF SALE SALE PRICE  \\\n",
       "84543                          1                             B9     450000   \n",
       "84544                          1                             B9     550000   \n",
       "84545                          1                             B2     460000   \n",
       "84546                          4                             K6   11693337   \n",
       "84547                          4                             P9      69300   \n",
       "\n",
       "                 SALE DATE  \n",
       "84543  2016-11-28 00:00:00  \n",
       "84544  2017-04-21 00:00:00  \n",
       "84545  2017-07-05 00:00:00  \n",
       "84546  2016-12-21 00:00:00  \n",
       "84547  2016-10-27 00:00:00  "
      ]
     },
     "execution_count": 4,
     "metadata": {},
     "output_type": "execute_result"
    }
   ],
   "source": [
    "# menampilkan 5 data terbawah\n",
    "df.tail()"
   ]
  },
  {
   "cell_type": "code",
   "execution_count": 5,
   "id": "47d0ab5d",
   "metadata": {
    "scrolled": true
   },
   "outputs": [
    {
     "name": "stdout",
     "output_type": "stream",
     "text": [
      "<class 'pandas.core.frame.DataFrame'>\n",
      "RangeIndex: 84548 entries, 0 to 84547\n",
      "Data columns (total 22 columns):\n",
      " #   Column                          Non-Null Count  Dtype \n",
      "---  ------                          --------------  ----- \n",
      " 0   Unnamed: 0                      84548 non-null  int64 \n",
      " 1   BOROUGH                         84548 non-null  int64 \n",
      " 2   NEIGHBORHOOD                    84548 non-null  object\n",
      " 3   BUILDING CLASS CATEGORY         84548 non-null  object\n",
      " 4   TAX CLASS AT PRESENT            84548 non-null  object\n",
      " 5   BLOCK                           84548 non-null  int64 \n",
      " 6   LOT                             84548 non-null  int64 \n",
      " 7   EASE-MENT                       84548 non-null  object\n",
      " 8   BUILDING CLASS AT PRESENT       84548 non-null  object\n",
      " 9   ADDRESS                         84548 non-null  object\n",
      " 10  APARTMENT NUMBER                84548 non-null  object\n",
      " 11  ZIP CODE                        84548 non-null  int64 \n",
      " 12  RESIDENTIAL UNITS               84548 non-null  int64 \n",
      " 13  COMMERCIAL UNITS                84548 non-null  int64 \n",
      " 14  TOTAL UNITS                     84548 non-null  int64 \n",
      " 15  LAND SQUARE FEET                84548 non-null  object\n",
      " 16  GROSS SQUARE FEET               84548 non-null  object\n",
      " 17  YEAR BUILT                      84548 non-null  int64 \n",
      " 18  TAX CLASS AT TIME OF SALE       84548 non-null  int64 \n",
      " 19  BUILDING CLASS AT TIME OF SALE  84548 non-null  object\n",
      " 20  SALE PRICE                      84548 non-null  object\n",
      " 21  SALE DATE                       84548 non-null  object\n",
      "dtypes: int64(10), object(12)\n",
      "memory usage: 14.2+ MB\n"
     ]
    }
   ],
   "source": [
    "# informasi tentang tipe data untuk masing-masing atribute\n",
    "df.info()"
   ]
  },
  {
   "cell_type": "code",
   "execution_count": 6,
   "id": "1b5e92c9",
   "metadata": {},
   "outputs": [
    {
     "data": {
      "text/plain": [
       "(84548, 22)"
      ]
     },
     "execution_count": 6,
     "metadata": {},
     "output_type": "execute_result"
    }
   ],
   "source": [
    "# menampilkan ukuran data (jumlah baris, jumlah kolom)\n",
    "df.shape"
   ]
  },
  {
   "cell_type": "markdown",
   "id": "f3b01bd2",
   "metadata": {},
   "source": [
    "diketahui bahwa terdapat 84.548 baris dan 22 kolom"
   ]
  },
  {
   "cell_type": "markdown",
   "id": "0ed83d57",
   "metadata": {},
   "source": [
    "## Data Cleaning dan Data Preprocessing"
   ]
  },
  {
   "cell_type": "markdown",
   "id": "39a419dd",
   "metadata": {},
   "source": [
    "#### Drop Unnecessary Columns"
   ]
  },
  {
   "cell_type": "code",
   "execution_count": 7,
   "id": "92eb0335",
   "metadata": {},
   "outputs": [
    {
     "data": {
      "text/html": [
       "<div>\n",
       "<style scoped>\n",
       "    .dataframe tbody tr th:only-of-type {\n",
       "        vertical-align: middle;\n",
       "    }\n",
       "\n",
       "    .dataframe tbody tr th {\n",
       "        vertical-align: top;\n",
       "    }\n",
       "\n",
       "    .dataframe thead th {\n",
       "        text-align: right;\n",
       "    }\n",
       "</style>\n",
       "<table border=\"1\" class=\"dataframe\">\n",
       "  <thead>\n",
       "    <tr style=\"text-align: right;\">\n",
       "      <th></th>\n",
       "      <th>BOROUGH</th>\n",
       "      <th>NEIGHBORHOOD</th>\n",
       "      <th>BUILDING CLASS CATEGORY</th>\n",
       "      <th>TAX CLASS AT PRESENT</th>\n",
       "      <th>BUILDING CLASS AT PRESENT</th>\n",
       "      <th>RESIDENTIAL UNITS</th>\n",
       "      <th>COMMERCIAL UNITS</th>\n",
       "      <th>TOTAL UNITS</th>\n",
       "      <th>LAND SQUARE FEET</th>\n",
       "      <th>GROSS SQUARE FEET</th>\n",
       "      <th>YEAR BUILT</th>\n",
       "      <th>TAX CLASS AT TIME OF SALE</th>\n",
       "      <th>BUILDING CLASS AT TIME OF SALE</th>\n",
       "      <th>SALE PRICE</th>\n",
       "      <th>SALE DATE</th>\n",
       "    </tr>\n",
       "  </thead>\n",
       "  <tbody>\n",
       "    <tr>\n",
       "      <th>0</th>\n",
       "      <td>1</td>\n",
       "      <td>ALPHABET CITY</td>\n",
       "      <td>07 RENTALS - WALKUP APARTMENTS</td>\n",
       "      <td>2A</td>\n",
       "      <td>C2</td>\n",
       "      <td>5</td>\n",
       "      <td>0</td>\n",
       "      <td>5</td>\n",
       "      <td>1633</td>\n",
       "      <td>6440</td>\n",
       "      <td>1900</td>\n",
       "      <td>2</td>\n",
       "      <td>C2</td>\n",
       "      <td>6625000</td>\n",
       "      <td>2017-07-19 00:00:00</td>\n",
       "    </tr>\n",
       "    <tr>\n",
       "      <th>1</th>\n",
       "      <td>1</td>\n",
       "      <td>ALPHABET CITY</td>\n",
       "      <td>07 RENTALS - WALKUP APARTMENTS</td>\n",
       "      <td>2</td>\n",
       "      <td>C7</td>\n",
       "      <td>28</td>\n",
       "      <td>3</td>\n",
       "      <td>31</td>\n",
       "      <td>4616</td>\n",
       "      <td>18690</td>\n",
       "      <td>1900</td>\n",
       "      <td>2</td>\n",
       "      <td>C7</td>\n",
       "      <td>-</td>\n",
       "      <td>2016-12-14 00:00:00</td>\n",
       "    </tr>\n",
       "    <tr>\n",
       "      <th>2</th>\n",
       "      <td>1</td>\n",
       "      <td>ALPHABET CITY</td>\n",
       "      <td>07 RENTALS - WALKUP APARTMENTS</td>\n",
       "      <td>2</td>\n",
       "      <td>C7</td>\n",
       "      <td>16</td>\n",
       "      <td>1</td>\n",
       "      <td>17</td>\n",
       "      <td>2212</td>\n",
       "      <td>7803</td>\n",
       "      <td>1900</td>\n",
       "      <td>2</td>\n",
       "      <td>C7</td>\n",
       "      <td>-</td>\n",
       "      <td>2016-12-09 00:00:00</td>\n",
       "    </tr>\n",
       "    <tr>\n",
       "      <th>3</th>\n",
       "      <td>1</td>\n",
       "      <td>ALPHABET CITY</td>\n",
       "      <td>07 RENTALS - WALKUP APARTMENTS</td>\n",
       "      <td>2B</td>\n",
       "      <td>C4</td>\n",
       "      <td>10</td>\n",
       "      <td>0</td>\n",
       "      <td>10</td>\n",
       "      <td>2272</td>\n",
       "      <td>6794</td>\n",
       "      <td>1913</td>\n",
       "      <td>2</td>\n",
       "      <td>C4</td>\n",
       "      <td>3936272</td>\n",
       "      <td>2016-09-23 00:00:00</td>\n",
       "    </tr>\n",
       "    <tr>\n",
       "      <th>4</th>\n",
       "      <td>1</td>\n",
       "      <td>ALPHABET CITY</td>\n",
       "      <td>07 RENTALS - WALKUP APARTMENTS</td>\n",
       "      <td>2A</td>\n",
       "      <td>C2</td>\n",
       "      <td>6</td>\n",
       "      <td>0</td>\n",
       "      <td>6</td>\n",
       "      <td>2369</td>\n",
       "      <td>4615</td>\n",
       "      <td>1900</td>\n",
       "      <td>2</td>\n",
       "      <td>C2</td>\n",
       "      <td>8000000</td>\n",
       "      <td>2016-11-17 00:00:00</td>\n",
       "    </tr>\n",
       "    <tr>\n",
       "      <th>...</th>\n",
       "      <td>...</td>\n",
       "      <td>...</td>\n",
       "      <td>...</td>\n",
       "      <td>...</td>\n",
       "      <td>...</td>\n",
       "      <td>...</td>\n",
       "      <td>...</td>\n",
       "      <td>...</td>\n",
       "      <td>...</td>\n",
       "      <td>...</td>\n",
       "      <td>...</td>\n",
       "      <td>...</td>\n",
       "      <td>...</td>\n",
       "      <td>...</td>\n",
       "      <td>...</td>\n",
       "    </tr>\n",
       "    <tr>\n",
       "      <th>84543</th>\n",
       "      <td>5</td>\n",
       "      <td>WOODROW</td>\n",
       "      <td>02 TWO FAMILY DWELLINGS</td>\n",
       "      <td>1</td>\n",
       "      <td>B9</td>\n",
       "      <td>2</td>\n",
       "      <td>0</td>\n",
       "      <td>2</td>\n",
       "      <td>2400</td>\n",
       "      <td>2575</td>\n",
       "      <td>1998</td>\n",
       "      <td>1</td>\n",
       "      <td>B9</td>\n",
       "      <td>450000</td>\n",
       "      <td>2016-11-28 00:00:00</td>\n",
       "    </tr>\n",
       "    <tr>\n",
       "      <th>84544</th>\n",
       "      <td>5</td>\n",
       "      <td>WOODROW</td>\n",
       "      <td>02 TWO FAMILY DWELLINGS</td>\n",
       "      <td>1</td>\n",
       "      <td>B9</td>\n",
       "      <td>2</td>\n",
       "      <td>0</td>\n",
       "      <td>2</td>\n",
       "      <td>2498</td>\n",
       "      <td>2377</td>\n",
       "      <td>1998</td>\n",
       "      <td>1</td>\n",
       "      <td>B9</td>\n",
       "      <td>550000</td>\n",
       "      <td>2017-04-21 00:00:00</td>\n",
       "    </tr>\n",
       "    <tr>\n",
       "      <th>84545</th>\n",
       "      <td>5</td>\n",
       "      <td>WOODROW</td>\n",
       "      <td>02 TWO FAMILY DWELLINGS</td>\n",
       "      <td>1</td>\n",
       "      <td>B2</td>\n",
       "      <td>2</td>\n",
       "      <td>0</td>\n",
       "      <td>2</td>\n",
       "      <td>4000</td>\n",
       "      <td>1496</td>\n",
       "      <td>1925</td>\n",
       "      <td>1</td>\n",
       "      <td>B2</td>\n",
       "      <td>460000</td>\n",
       "      <td>2017-07-05 00:00:00</td>\n",
       "    </tr>\n",
       "    <tr>\n",
       "      <th>84546</th>\n",
       "      <td>5</td>\n",
       "      <td>WOODROW</td>\n",
       "      <td>22 STORE BUILDINGS</td>\n",
       "      <td>4</td>\n",
       "      <td>K6</td>\n",
       "      <td>0</td>\n",
       "      <td>7</td>\n",
       "      <td>7</td>\n",
       "      <td>208033</td>\n",
       "      <td>64117</td>\n",
       "      <td>2001</td>\n",
       "      <td>4</td>\n",
       "      <td>K6</td>\n",
       "      <td>11693337</td>\n",
       "      <td>2016-12-21 00:00:00</td>\n",
       "    </tr>\n",
       "    <tr>\n",
       "      <th>84547</th>\n",
       "      <td>5</td>\n",
       "      <td>WOODROW</td>\n",
       "      <td>35 INDOOR PUBLIC AND CULTURAL FACILITIES</td>\n",
       "      <td>4</td>\n",
       "      <td>P9</td>\n",
       "      <td>0</td>\n",
       "      <td>1</td>\n",
       "      <td>1</td>\n",
       "      <td>10796</td>\n",
       "      <td>2400</td>\n",
       "      <td>2006</td>\n",
       "      <td>4</td>\n",
       "      <td>P9</td>\n",
       "      <td>69300</td>\n",
       "      <td>2016-10-27 00:00:00</td>\n",
       "    </tr>\n",
       "  </tbody>\n",
       "</table>\n",
       "<p>84548 rows × 15 columns</p>\n",
       "</div>"
      ],
      "text/plain": [
       "       BOROUGH   NEIGHBORHOOD                      BUILDING CLASS CATEGORY  \\\n",
       "0            1  ALPHABET CITY  07 RENTALS - WALKUP APARTMENTS                \n",
       "1            1  ALPHABET CITY  07 RENTALS - WALKUP APARTMENTS                \n",
       "2            1  ALPHABET CITY  07 RENTALS - WALKUP APARTMENTS                \n",
       "3            1  ALPHABET CITY  07 RENTALS - WALKUP APARTMENTS                \n",
       "4            1  ALPHABET CITY  07 RENTALS - WALKUP APARTMENTS                \n",
       "...        ...            ...                                          ...   \n",
       "84543        5        WOODROW  02 TWO FAMILY DWELLINGS                       \n",
       "84544        5        WOODROW  02 TWO FAMILY DWELLINGS                       \n",
       "84545        5        WOODROW  02 TWO FAMILY DWELLINGS                       \n",
       "84546        5        WOODROW  22 STORE BUILDINGS                            \n",
       "84547        5        WOODROW  35 INDOOR PUBLIC AND CULTURAL FACILITIES      \n",
       "\n",
       "      TAX CLASS AT PRESENT BUILDING CLASS AT PRESENT  RESIDENTIAL UNITS  \\\n",
       "0                       2A                        C2                  5   \n",
       "1                        2                        C7                 28   \n",
       "2                        2                        C7                 16   \n",
       "3                       2B                        C4                 10   \n",
       "4                       2A                        C2                  6   \n",
       "...                    ...                       ...                ...   \n",
       "84543                    1                        B9                  2   \n",
       "84544                    1                        B9                  2   \n",
       "84545                    1                        B2                  2   \n",
       "84546                    4                        K6                  0   \n",
       "84547                    4                        P9                  0   \n",
       "\n",
       "       COMMERCIAL UNITS  TOTAL UNITS LAND SQUARE FEET GROSS SQUARE FEET  \\\n",
       "0                     0            5             1633              6440   \n",
       "1                     3           31             4616             18690   \n",
       "2                     1           17             2212              7803   \n",
       "3                     0           10             2272              6794   \n",
       "4                     0            6             2369              4615   \n",
       "...                 ...          ...              ...               ...   \n",
       "84543                 0            2             2400              2575   \n",
       "84544                 0            2             2498              2377   \n",
       "84545                 0            2             4000              1496   \n",
       "84546                 7            7           208033             64117   \n",
       "84547                 1            1            10796              2400   \n",
       "\n",
       "       YEAR BUILT  TAX CLASS AT TIME OF SALE BUILDING CLASS AT TIME OF SALE  \\\n",
       "0            1900                          2                             C2   \n",
       "1            1900                          2                             C7   \n",
       "2            1900                          2                             C7   \n",
       "3            1913                          2                             C4   \n",
       "4            1900                          2                             C2   \n",
       "...           ...                        ...                            ...   \n",
       "84543        1998                          1                             B9   \n",
       "84544        1998                          1                             B9   \n",
       "84545        1925                          1                             B2   \n",
       "84546        2001                          4                             K6   \n",
       "84547        2006                          4                             P9   \n",
       "\n",
       "      SALE PRICE            SALE DATE  \n",
       "0        6625000  2017-07-19 00:00:00  \n",
       "1            -    2016-12-14 00:00:00  \n",
       "2            -    2016-12-09 00:00:00  \n",
       "3        3936272  2016-09-23 00:00:00  \n",
       "4        8000000  2016-11-17 00:00:00  \n",
       "...          ...                  ...  \n",
       "84543     450000  2016-11-28 00:00:00  \n",
       "84544     550000  2017-04-21 00:00:00  \n",
       "84545     460000  2017-07-05 00:00:00  \n",
       "84546   11693337  2016-12-21 00:00:00  \n",
       "84547      69300  2016-10-27 00:00:00  \n",
       "\n",
       "[84548 rows x 15 columns]"
      ]
     },
     "execution_count": 7,
     "metadata": {},
     "output_type": "execute_result"
    }
   ],
   "source": [
    "# drop kolom yang tidak diperlukan\n",
    "df.drop(['Unnamed: 0', 'BLOCK', 'LOT', 'EASE-MENT', 'APARTMENT NUMBER', 'ADDRESS', 'ZIP CODE'], axis=1, inplace=True)\n",
    "df"
   ]
  },
  {
   "cell_type": "markdown",
   "id": "96b1bd9c",
   "metadata": {},
   "source": [
    "#### Change Data Type"
   ]
  },
  {
   "cell_type": "code",
   "execution_count": 8,
   "id": "81c276bc",
   "metadata": {},
   "outputs": [],
   "source": [
    "# mengubah tipe beberapa kolom menjadi kategori\n",
    "\n",
    "categorical = ['BOROUGH', 'NEIGHBORHOOD', 'BUILDING CLASS CATEGORY', 'TAX CLASS AT PRESENT', 'BUILDING CLASS AT PRESENT', \n",
    "               'YEAR BUILT', 'TAX CLASS AT TIME OF SALE', 'BUILDING CLASS AT TIME OF SALE']\n",
    "\n",
    "for col in categorical:\n",
    "    df[col] = df[col].astype('category')"
   ]
  },
  {
   "cell_type": "code",
   "execution_count": 9,
   "id": "9306c29b",
   "metadata": {},
   "outputs": [],
   "source": [
    "# mengubah tipe beberapa kolom menjadi numerik\n",
    "\n",
    "numerical = ['LAND SQUARE FEET', 'GROSS SQUARE FEET', 'SALE PRICE']\n",
    "\n",
    "for col in numerical:\n",
    "    df[col] = pd.to_numeric(df[col], errors = \"coerce\")"
   ]
  },
  {
   "cell_type": "code",
   "execution_count": 10,
   "id": "4c230202",
   "metadata": {},
   "outputs": [],
   "source": [
    "# mengubah sale date dengan format datetime\n",
    "df['SALE DATE'] = pd.to_datetime(df['SALE DATE'], errors = 'coerce')"
   ]
  },
  {
   "cell_type": "markdown",
   "id": "2c10ce9b",
   "metadata": {},
   "source": [
    "#### Missing Values"
   ]
  },
  {
   "cell_type": "code",
   "execution_count": 11,
   "id": "6eccc766",
   "metadata": {
    "scrolled": true
   },
   "outputs": [
    {
     "data": {
      "text/html": [
       "<div>\n",
       "<style scoped>\n",
       "    .dataframe tbody tr th:only-of-type {\n",
       "        vertical-align: middle;\n",
       "    }\n",
       "\n",
       "    .dataframe tbody tr th {\n",
       "        vertical-align: top;\n",
       "    }\n",
       "\n",
       "    .dataframe thead th {\n",
       "        text-align: right;\n",
       "    }\n",
       "</style>\n",
       "<table border=\"1\" class=\"dataframe\">\n",
       "  <thead>\n",
       "    <tr style=\"text-align: right;\">\n",
       "      <th></th>\n",
       "      <th>missing values percentage</th>\n",
       "    </tr>\n",
       "  </thead>\n",
       "  <tbody>\n",
       "    <tr>\n",
       "      <th>BOROUGH</th>\n",
       "      <td>0.00</td>\n",
       "    </tr>\n",
       "    <tr>\n",
       "      <th>NEIGHBORHOOD</th>\n",
       "      <td>0.00</td>\n",
       "    </tr>\n",
       "    <tr>\n",
       "      <th>BUILDING CLASS CATEGORY</th>\n",
       "      <td>0.00</td>\n",
       "    </tr>\n",
       "    <tr>\n",
       "      <th>TAX CLASS AT PRESENT</th>\n",
       "      <td>0.00</td>\n",
       "    </tr>\n",
       "    <tr>\n",
       "      <th>BUILDING CLASS AT PRESENT</th>\n",
       "      <td>0.00</td>\n",
       "    </tr>\n",
       "    <tr>\n",
       "      <th>RESIDENTIAL UNITS</th>\n",
       "      <td>0.00</td>\n",
       "    </tr>\n",
       "    <tr>\n",
       "      <th>COMMERCIAL UNITS</th>\n",
       "      <td>0.00</td>\n",
       "    </tr>\n",
       "    <tr>\n",
       "      <th>TOTAL UNITS</th>\n",
       "      <td>0.00</td>\n",
       "    </tr>\n",
       "    <tr>\n",
       "      <th>LAND SQUARE FEET</th>\n",
       "      <td>31.05</td>\n",
       "    </tr>\n",
       "    <tr>\n",
       "      <th>GROSS SQUARE FEET</th>\n",
       "      <td>32.66</td>\n",
       "    </tr>\n",
       "    <tr>\n",
       "      <th>YEAR BUILT</th>\n",
       "      <td>0.00</td>\n",
       "    </tr>\n",
       "    <tr>\n",
       "      <th>TAX CLASS AT TIME OF SALE</th>\n",
       "      <td>0.00</td>\n",
       "    </tr>\n",
       "    <tr>\n",
       "      <th>BUILDING CLASS AT TIME OF SALE</th>\n",
       "      <td>0.00</td>\n",
       "    </tr>\n",
       "    <tr>\n",
       "      <th>SALE PRICE</th>\n",
       "      <td>17.22</td>\n",
       "    </tr>\n",
       "    <tr>\n",
       "      <th>SALE DATE</th>\n",
       "      <td>0.00</td>\n",
       "    </tr>\n",
       "  </tbody>\n",
       "</table>\n",
       "</div>"
      ],
      "text/plain": [
       "                                missing values percentage\n",
       "BOROUGH                                              0.00\n",
       "NEIGHBORHOOD                                         0.00\n",
       "BUILDING CLASS CATEGORY                              0.00\n",
       "TAX CLASS AT PRESENT                                 0.00\n",
       "BUILDING CLASS AT PRESENT                            0.00\n",
       "RESIDENTIAL UNITS                                    0.00\n",
       "COMMERCIAL UNITS                                     0.00\n",
       "TOTAL UNITS                                          0.00\n",
       "LAND SQUARE FEET                                    31.05\n",
       "GROSS SQUARE FEET                                   32.66\n",
       "YEAR BUILT                                           0.00\n",
       "TAX CLASS AT TIME OF SALE                            0.00\n",
       "BUILDING CLASS AT TIME OF SALE                       0.00\n",
       "SALE PRICE                                          17.22\n",
       "SALE DATE                                            0.00"
      ]
     },
     "execution_count": 11,
     "metadata": {},
     "output_type": "execute_result"
    }
   ],
   "source": [
    "miss_val = round((df.isnull().sum())/len(df)*100, 2)\n",
    "miss_val = pd.DataFrame(miss_val)\n",
    "miss_val = miss_val.rename(columns = {0 : 'missing values percentage'})\n",
    "miss_val"
   ]
  },
  {
   "cell_type": "markdown",
   "id": "c542cf40",
   "metadata": {},
   "source": [
    "Berdasarkan hasil diatas, LAND SQUARE FEET memiliki persentase missing values sebanyak 31%, GROSS SQUARE FEET memiliki persentase missing values sebanyak 33%, dan SALE PRICE memiliki persentase missing values sebanyak 17%. Karena dataset ini merupakan _financial dataset_ yang mana tidak ada data pada kolom SALE PRICE apabila harga properti yang terjual senilai $0, sehingga terdapat probabilitas bahwa properti tersebut mengalami _transferring ownership_. Selain itu, kolom LAND SQUARE FEET dan GROSS SQUARE FEET yang mengandung missing value dianggap data yang tidak valid. Sehingga, semua missing value akan didrop atau dihilangkan dari dataset tersebut.\n",
    "\n"
   ]
  },
  {
   "cell_type": "code",
   "execution_count": 12,
   "id": "a26e2f89",
   "metadata": {},
   "outputs": [],
   "source": [
    "# drop missing values\n",
    "df = df.dropna()"
   ]
  },
  {
   "cell_type": "code",
   "execution_count": 13,
   "id": "1e82206c",
   "metadata": {},
   "outputs": [
    {
     "data": {
      "text/plain": [
       "BOROUGH                           False\n",
       "NEIGHBORHOOD                      False\n",
       "BUILDING CLASS CATEGORY           False\n",
       "TAX CLASS AT PRESENT              False\n",
       "BUILDING CLASS AT PRESENT         False\n",
       "RESIDENTIAL UNITS                 False\n",
       "COMMERCIAL UNITS                  False\n",
       "TOTAL UNITS                       False\n",
       "LAND SQUARE FEET                  False\n",
       "GROSS SQUARE FEET                 False\n",
       "YEAR BUILT                        False\n",
       "TAX CLASS AT TIME OF SALE         False\n",
       "BUILDING CLASS AT TIME OF SALE    False\n",
       "SALE PRICE                        False\n",
       "SALE DATE                         False\n",
       "dtype: bool"
      ]
     },
     "execution_count": 13,
     "metadata": {},
     "output_type": "execute_result"
    }
   ],
   "source": [
    "# memeriksa kembalu missing value\n",
    "df.isnull().any()"
   ]
  },
  {
   "cell_type": "markdown",
   "id": "b526b4d9",
   "metadata": {},
   "source": [
    "sudah tidak terdapat lagi missing value pada dataset, maka selanjunya dilakukan pemeriksaan data yang terduplikat"
   ]
  },
  {
   "cell_type": "markdown",
   "id": "aacd6558",
   "metadata": {},
   "source": [
    "#### Duplicated Data"
   ]
  },
  {
   "cell_type": "code",
   "execution_count": 14,
   "id": "459535ab",
   "metadata": {},
   "outputs": [
    {
     "data": {
      "text/plain": [
       "959"
      ]
     },
     "execution_count": 14,
     "metadata": {},
     "output_type": "execute_result"
    }
   ],
   "source": [
    "# mengecek apakah ada data yang terduplikat\n",
    "df.duplicated().sum()"
   ]
  },
  {
   "cell_type": "markdown",
   "id": "4b127b18",
   "metadata": {},
   "source": [
    "terdapat 959 baris data terduplikat, sehingga data tersebut harus dihilangkan"
   ]
  },
  {
   "cell_type": "code",
   "execution_count": 15,
   "id": "9b5310d5",
   "metadata": {},
   "outputs": [
    {
     "data": {
      "text/plain": [
       "0"
      ]
     },
     "execution_count": 15,
     "metadata": {},
     "output_type": "execute_result"
    }
   ],
   "source": [
    "# drop data duplikat\n",
    "df.drop_duplicates(inplace=True)\n",
    "\n",
    "# memeriksa kembali data duplikat\n",
    "df.duplicated().sum()"
   ]
  },
  {
   "cell_type": "markdown",
   "id": "13acb404",
   "metadata": {},
   "source": [
    "#### Outliers"
   ]
  },
  {
   "cell_type": "markdown",
   "id": "646562a9",
   "metadata": {},
   "source": [
    "##### Kolom `SALE PRICE`"
   ]
  },
  {
   "cell_type": "code",
   "execution_count": 16,
   "id": "78b0d558",
   "metadata": {},
   "outputs": [
    {
     "data": {
      "text/plain": [
       "count    4.728500e+04\n",
       "mean     1.171341e+06\n",
       "std      1.352859e+07\n",
       "min      0.000000e+00\n",
       "25%      1.247340e+05\n",
       "50%      4.900000e+05\n",
       "75%      8.400000e+05\n",
       "max      2.210000e+09\n",
       "Name: SALE PRICE, dtype: float64"
      ]
     },
     "execution_count": 16,
     "metadata": {},
     "output_type": "execute_result"
    }
   ],
   "source": [
    "# melihat kolom SALE PRICE\n",
    "df['SALE PRICE'].describe()"
   ]
  },
  {
   "cell_type": "code",
   "execution_count": 17,
   "id": "e59724b1",
   "metadata": {},
   "outputs": [
    {
     "data": {
      "image/png": "[encoded data removed]",
      "text/plain": [
       "<Figure size 1080x432 with 1 Axes>"
      ]
     },
     "metadata": {
      "needs_background": "light"
     },
     "output_type": "display_data"
    }
   ],
   "source": [
    "# sebaran data pada kolom SALE PRICE menggunakan boxplot\n",
    "plt.figure(figsize = (15, 6))\n",
    "\n",
    "sns.boxplot(data = df, x = 'SALE PRICE')\n",
    "plt.ticklabel_format(style = 'plain', axis = 'x')\n",
    "plt.title('Boxplot of SALE PRICE in USD')\n",
    "plt.show()"
   ]
  },
  {
   "cell_type": "markdown",
   "id": "ef77e9d4",
   "metadata": {},
   "source": [
    "Terlihat bahwa nilai maximum pada kolom `SALE PRICE` adalah 2.210.000.000, sedangkan nilai pada kuartil kedua (Q2) adalah sebesar 4.900.000 dan kuartil ketiga (Q3) adalah sebesar 8.400.000. Maka dari itu untuk memperjalas sebaran data, akan dilihat distribusi `SALE PRICE` dibawah 5.000.000 karena selain nilai maksimum, nilai Q3 juga dianggap sebagai outlier."
   ]
  },
  {
   "cell_type": "code",
   "execution_count": 18,
   "id": "08a75497",
   "metadata": {},
   "outputs": [
    {
     "data": {
      "image/png": "[encoded data removed]",
      "text/plain": [
       "<Figure size 1080x432 with 1 Axes>"
      ]
     },
     "metadata": {
      "needs_background": "light"
     },
     "output_type": "display_data"
    }
   ],
   "source": [
    "# sebaran data kolom SALE PRICE dibawah 5.000.000\n",
    "df = df[(df['SALE PRICE'] < 5000000)]\n",
    "\n",
    "plt.figure(figsize = (15, 6))\n",
    "sns.histplot(data = df, x = 'SALE PRICE', kde = True, bins = 50)\n",
    "plt.ticklabel_format(style = 'plain', axis = 'x')\n",
    "plt.title('Distribution of SALE PRICE in USD')\n",
    "plt.show()"
   ]
  },
  {
   "cell_type": "markdown",
   "id": "9c85c589",
   "metadata": {},
   "source": [
    "Nilai minimum pada kolom `SALE PRICE` adalah 0 sedangkan nilai pada kuartil pertama (Q1) adalah sebesar 124.734. Dari sebaran data di atas, terlihat data yang berbeda signifikan berada pada kisaran rentang 0 hingga 100.000 dimana nilai minimum dianggap sebagai outlier, maka apabila data pada rentang tersebut tidak ditampilkan distribusi kolom `SALE PRICE` adalah sebagai berikut: "
   ]
  },
  {
   "cell_type": "code",
   "execution_count": 19,
   "id": "6e11baa0",
   "metadata": {},
   "outputs": [
    {
     "data": {
      "image/png": "[encoded data removed]",
      "text/plain": [
       "<Figure size 1080x432 with 1 Axes>"
      ]
     },
     "metadata": {
      "needs_background": "light"
     },
     "output_type": "display_data"
    }
   ],
   "source": [
    "# sebaran data kolom SALE PRICE dengan rentang antara 100.000 hingga 5.000.000\n",
    "df = df[(df['SALE PRICE'] > 100000) & (df['SALE PRICE'] < 5000000)]\n",
    "\n",
    "plt.figure(figsize = (15, 6))\n",
    "sns.histplot(data = df, x = 'SALE PRICE', kde = True, bins = 50)\n",
    "plt.ticklabel_format(style = 'plain', axis = 'x')\n",
    "plt.title('Distribution of SALE PRICE in USD')\n",
    "plt.show()"
   ]
  },
  {
   "cell_type": "code",
   "execution_count": 20,
   "id": "0ea02b60",
   "metadata": {},
   "outputs": [
    {
     "data": {
      "text/plain": [
       "count    3.458700e+04\n",
       "mean     7.965060e+05\n",
       "std      6.536591e+05\n",
       "min      1.007000e+05\n",
       "25%      4.160950e+05\n",
       "50%      6.160000e+05\n",
       "75%      9.300000e+05\n",
       "max      4.986410e+06\n",
       "Name: SALE PRICE, dtype: float64"
      ]
     },
     "execution_count": 20,
     "metadata": {},
     "output_type": "execute_result"
    }
   ],
   "source": [
    "# menampilkan deskripsi kolom SALE PRICE setelah menghilangkan outlier\n",
    "df['SALE PRICE'].describe()"
   ]
  },
  {
   "cell_type": "markdown",
   "id": "74231180",
   "metadata": {},
   "source": [
    "Dalam analisis kali ini, nilai minimum dan Q3 pada data awal dianggap sebagai data outlier. Setelah menghilangkan outlier pada kolom `SALE PRICE`, terlihat perubahan nilai minimum yang awalnya 0 menjadi 100.700 dan nilai maksimum yang awalnya 2.210.000.000 menjadi 4.986.410."
   ]
  },
  {
   "cell_type": "markdown",
   "id": "7cddd6c8",
   "metadata": {},
   "source": [
    "##### Kolom `TOTAL UNITS`"
   ]
  },
  {
   "cell_type": "code",
   "execution_count": 21,
   "id": "22fc1445",
   "metadata": {},
   "outputs": [
    {
     "data": {
      "text/plain": [
       "array([  10,    8,    4,    6,    1,    9,    7,   32,   24,   30,    2,\n",
       "          5,    3,   12,   15,   23,   16,   35,   11,    0,   51,   38,\n",
       "         18,   26,   21,   20,   17,   36,   14,  102,  121,  192,  193,\n",
       "         29,   13,   27,   31,   25,   47,   28,   22,   63,   78,   58,\n",
       "        462,   64,   39,   48,   19,   86,  286,   72,   34,  324,   84,\n",
       "        100,   68,  152,  136,  295,  120, 1866,   56,  150,   96, 2261,\n",
       "        446,  143,   60,  126], dtype=int64)"
      ]
     },
     "execution_count": 21,
     "metadata": {},
     "output_type": "execute_result"
    }
   ],
   "source": [
    "# menampilkan isi kolom total units\n",
    "df['TOTAL UNITS'].unique()"
   ]
  },
  {
   "cell_type": "code",
   "execution_count": 22,
   "id": "68fc8a22",
   "metadata": {},
   "outputs": [
    {
     "data": {
      "text/html": [
       "<div>\n",
       "<style scoped>\n",
       "    .dataframe tbody tr th:only-of-type {\n",
       "        vertical-align: middle;\n",
       "    }\n",
       "\n",
       "    .dataframe tbody tr th {\n",
       "        vertical-align: top;\n",
       "    }\n",
       "\n",
       "    .dataframe thead th {\n",
       "        text-align: right;\n",
       "    }\n",
       "</style>\n",
       "<table border=\"1\" class=\"dataframe\">\n",
       "  <thead>\n",
       "    <tr style=\"text-align: right;\">\n",
       "      <th></th>\n",
       "      <th>SALE PRICE</th>\n",
       "    </tr>\n",
       "    <tr>\n",
       "      <th>TOTAL UNITS</th>\n",
       "      <th></th>\n",
       "    </tr>\n",
       "  </thead>\n",
       "  <tbody>\n",
       "    <tr>\n",
       "      <th>1</th>\n",
       "      <td>16804</td>\n",
       "    </tr>\n",
       "    <tr>\n",
       "      <th>2</th>\n",
       "      <td>9517</td>\n",
       "    </tr>\n",
       "    <tr>\n",
       "      <th>0</th>\n",
       "      <td>3742</td>\n",
       "    </tr>\n",
       "    <tr>\n",
       "      <th>3</th>\n",
       "      <td>2730</td>\n",
       "    </tr>\n",
       "    <tr>\n",
       "      <th>4</th>\n",
       "      <td>704</td>\n",
       "    </tr>\n",
       "    <tr>\n",
       "      <th>...</th>\n",
       "      <td>...</td>\n",
       "    </tr>\n",
       "    <tr>\n",
       "      <th>51</th>\n",
       "      <td>1</td>\n",
       "    </tr>\n",
       "    <tr>\n",
       "      <th>34</th>\n",
       "      <td>1</td>\n",
       "    </tr>\n",
       "    <tr>\n",
       "      <th>47</th>\n",
       "      <td>1</td>\n",
       "    </tr>\n",
       "    <tr>\n",
       "      <th>39</th>\n",
       "      <td>1</td>\n",
       "    </tr>\n",
       "    <tr>\n",
       "      <th>2261</th>\n",
       "      <td>1</td>\n",
       "    </tr>\n",
       "  </tbody>\n",
       "</table>\n",
       "<p>70 rows × 1 columns</p>\n",
       "</div>"
      ],
      "text/plain": [
       "             SALE PRICE\n",
       "TOTAL UNITS            \n",
       "1                 16804\n",
       "2                  9517\n",
       "0                  3742\n",
       "3                  2730\n",
       "4                   704\n",
       "...                 ...\n",
       "51                    1\n",
       "34                    1\n",
       "47                    1\n",
       "39                    1\n",
       "2261                  1\n",
       "\n",
       "[70 rows x 1 columns]"
      ]
     },
     "execution_count": 22,
     "metadata": {},
     "output_type": "execute_result"
    }
   ],
   "source": [
    "# melihat data gabungan total units dan sale price\n",
    "df[['TOTAL UNITS', 'SALE PRICE']].groupby(['TOTAL UNITS']).count().sort_values(by = 'SALE PRICE', ascending = False)"
   ]
  },
  {
   "cell_type": "markdown",
   "id": "cc9e9b5f",
   "metadata": {},
   "source": [
    "Berdasarkan tabel di atas, akan dihilangkan data bernilai 0, 1866, dan 2261 yang dianggap sebagai outlier pada kolom `TOTAL UNITS`"
   ]
  },
  {
   "cell_type": "code",
   "execution_count": 23,
   "id": "d3eb7a1d",
   "metadata": {},
   "outputs": [],
   "source": [
    "# menghilangkan outlier kolom total units\n",
    "df = df[(df['TOTAL UNITS'] > 0) & (df['TOTAL UNITS'] != 1866) & (df['TOTAL UNITS'] != 2261)]"
   ]
  },
  {
   "cell_type": "markdown",
   "id": "fb7adb5f",
   "metadata": {},
   "source": [
    "##### Kolom `LAND SQUARE FEET`"
   ]
  },
  {
   "cell_type": "code",
   "execution_count": 24,
   "id": "fcec3377",
   "metadata": {},
   "outputs": [
    {
     "data": {
      "text/plain": [
       "count    3.084300e+04\n",
       "mean     2.983927e+03\n",
       "std      1.773301e+04\n",
       "min      0.000000e+00\n",
       "25%      1.800000e+03\n",
       "50%      2.388000e+03\n",
       "75%      3.420000e+03\n",
       "max      1.865243e+06\n",
       "Name: LAND SQUARE FEET, dtype: float64"
      ]
     },
     "execution_count": 24,
     "metadata": {},
     "output_type": "execute_result"
    }
   ],
   "source": [
    "df['LAND SQUARE FEET'].describe()"
   ]
  },
  {
   "cell_type": "code",
   "execution_count": 25,
   "id": "74b7b4ef",
   "metadata": {},
   "outputs": [
    {
     "data": {
      "image/png": "[encoded data removed]",
      "text/plain": [
       "<Figure size 1080x432 with 1 Axes>"
      ]
     },
     "metadata": {
      "needs_background": "light"
     },
     "output_type": "display_data"
    }
   ],
   "source": [
    "plt.figure(figsize = (15, 6))\n",
    "\n",
    "sns.boxplot(data = df, x = 'LAND SQUARE FEET')\n",
    "plt.ticklabel_format(style = 'plain', axis = 'x')\n",
    "plt.title('Boxplot of LAND SQUARE FEET')\n",
    "plt.show()"
   ]
  },
  {
   "cell_type": "markdown",
   "id": "d13b915e",
   "metadata": {},
   "source": [
    "Berdasarkan deskripsi data, terdapat data bernilai 0 pada kolom `LAND SQUARE FEET` dan memiliki nilai maksimum sebesar 1.865.243, sedangkan kuartil ketiga (Q3) kolom `LAND SQUARE FEET` sebesar 3.420, maka data yang lebih dari 4.000 pada kolom `LAND SQUARE FEET` dianggap sebagai outlier. Kemudian, data yang bernilai 0 tidak akan dimasukkan dalam analisis."
   ]
  },
  {
   "cell_type": "code",
   "execution_count": 26,
   "id": "df324da7",
   "metadata": {},
   "outputs": [],
   "source": [
    "# sebaran data kolom LAND SQUARE FEET dibawah 4.000 dan data tidak nol\n",
    "df = df[(df['LAND SQUARE FEET'] < 4000) & (df['LAND SQUARE FEET'] != 0)]"
   ]
  },
  {
   "cell_type": "code",
   "execution_count": 27,
   "id": "0c14b6d8",
   "metadata": {},
   "outputs": [
    {
     "data": {
      "text/plain": [
       "<AxesSubplot:xlabel='LAND SQUARE FEET', ylabel='Count'>"
      ]
     },
     "execution_count": 27,
     "metadata": {},
     "output_type": "execute_result"
    },
    {
     "data": {
      "image/png": "[encoded data removed]",
      "text/plain": [
       "<Figure size 864x504 with 1 Axes>"
      ]
     },
     "metadata": {
      "needs_background": "light"
     },
     "output_type": "display_data"
    }
   ],
   "source": [
    "# visualisasi data kolom LAND SQUARE FEET\n",
    "plt.figure(figsize = (12, 7))\n",
    "sns.histplot(data = df, x = 'LAND SQUARE FEET', kde = True, bins = 50)"
   ]
  },
  {
   "cell_type": "markdown",
   "id": "ef08844f",
   "metadata": {},
   "source": [
    "##### Kolom `GROSS SQUARE FEET`"
   ]
  },
  {
   "cell_type": "code",
   "execution_count": 28,
   "id": "3c15a8db",
   "metadata": {},
   "outputs": [
    {
     "data": {
      "text/plain": [
       "count    20299.000000\n",
       "mean      2083.204444\n",
       "std       1199.196318\n",
       "min          0.000000\n",
       "25%       1344.000000\n",
       "50%       1785.000000\n",
       "75%       2460.000000\n",
       "max      20500.000000\n",
       "Name: GROSS SQUARE FEET, dtype: float64"
      ]
     },
     "execution_count": 28,
     "metadata": {},
     "output_type": "execute_result"
    }
   ],
   "source": [
    "df['GROSS SQUARE FEET'].describe()"
   ]
  },
  {
   "cell_type": "code",
   "execution_count": 29,
   "id": "b6ecface",
   "metadata": {},
   "outputs": [
    {
     "data": {
      "image/png": "[encoded data removed]",
      "text/plain": [
       "<Figure size 1080x432 with 1 Axes>"
      ]
     },
     "metadata": {
      "needs_background": "light"
     },
     "output_type": "display_data"
    }
   ],
   "source": [
    "plt.figure(figsize = (15, 6))\n",
    "\n",
    "sns.boxplot(data = df, x = 'GROSS SQUARE FEET')\n",
    "plt.ticklabel_format(style = 'plain', axis = 'x')\n",
    "plt.title('Boxplot of GROSS SQUARE FEET')\n",
    "plt.show()"
   ]
  },
  {
   "cell_type": "markdown",
   "id": "9cf32867",
   "metadata": {},
   "source": [
    "Berdasarkan deskripsi data, terdapat data bernilai 0 pada kolom `GROSS SQUARE FEET` dan memiliki nilai maksimum sebesar 20.500, sedangkan kuartil ketiga (Q3) kolom `GROSS SQUARE FEET` sebesar 2.460, maka data yang lebih dari 3.000 pada kolom `GROSS SQUARE FEET` dianggap sebagai outlier. Kemudian, data yang bernilai 0 tidak akan dimasukkan dalam analisis."
   ]
  },
  {
   "cell_type": "code",
   "execution_count": 30,
   "id": "afe80fb0",
   "metadata": {},
   "outputs": [],
   "source": [
    "# sebaran data kolom LAND SQUARE FEET dibawah 3.000 dan data tidak nol\n",
    "df = df[(df['GROSS SQUARE FEET'] < 3000) & (df['GROSS SQUARE FEET'] != 0)]"
   ]
  },
  {
   "cell_type": "code",
   "execution_count": 31,
   "id": "208c0aa1",
   "metadata": {},
   "outputs": [
    {
     "data": {
      "text/plain": [
       "<AxesSubplot:xlabel='GROSS SQUARE FEET', ylabel='Count'>"
      ]
     },
     "execution_count": 31,
     "metadata": {},
     "output_type": "execute_result"
    },
    {
     "data": {
      "image/png": "[encoded data removed]",
      "text/plain": [
       "<Figure size 864x504 with 1 Axes>"
      ]
     },
     "metadata": {
      "needs_background": "light"
     },
     "output_type": "display_data"
    }
   ],
   "source": [
    "# visualisasi data kolom LAND SQUARE FEET\n",
    "plt.figure(figsize = (12, 7))\n",
    "sns.histplot(data = df, x = 'GROSS SQUARE FEET', kde = True, bins = 50)"
   ]
  },
  {
   "cell_type": "markdown",
   "id": "1a97374a",
   "metadata": {},
   "source": [
    "Setelah mengatasi outlier, selanjutnya akan dilakukan mapping"
   ]
  },
  {
   "cell_type": "markdown",
   "id": "af46d70f",
   "metadata": {},
   "source": [
    "#### Mapping"
   ]
  },
  {
   "cell_type": "markdown",
   "id": "fccd1974",
   "metadata": {},
   "source": [
    "Karena kolom BOROUGH pada dataset masih berupa data kategori angka, maka akan diubah berdasarkan nama borough pada angka tersebut"
   ]
  },
  {
   "cell_type": "code",
   "execution_count": 32,
   "id": "2fe2079b",
   "metadata": {},
   "outputs": [],
   "source": [
    "# mengganti kode area 1 dengan manhattan, 2 dengan bronx, 3 dengan brooklyn, 4 dengan queens, dan 5 dengan staten island\n",
    "df['BOROUGH'] = df['BOROUGH'].map({1:'Manhattan', \n",
    "                                   2:'Bronx', \n",
    "                                   3:'Brooklyn', \n",
    "                                   4:'Queens',\n",
    "                                   5:'Staten Island'})"
   ]
  },
  {
   "cell_type": "code",
   "execution_count": 33,
   "id": "8cb48bc5",
   "metadata": {},
   "outputs": [],
   "source": [
    "# mengubah index\n",
    "df.reset_index(drop = True, inplace = True)"
   ]
  },
  {
   "cell_type": "markdown",
   "id": "96c18689",
   "metadata": {},
   "source": [
    "### Final Data"
   ]
  },
  {
   "cell_type": "code",
   "execution_count": 34,
   "id": "045e68f8",
   "metadata": {},
   "outputs": [
    {
     "data": {
      "text/html": [
       "<div>\n",
       "<style scoped>\n",
       "    .dataframe tbody tr th:only-of-type {\n",
       "        vertical-align: middle;\n",
       "    }\n",
       "\n",
       "    .dataframe tbody tr th {\n",
       "        vertical-align: top;\n",
       "    }\n",
       "\n",
       "    .dataframe thead th {\n",
       "        text-align: right;\n",
       "    }\n",
       "</style>\n",
       "<table border=\"1\" class=\"dataframe\">\n",
       "  <thead>\n",
       "    <tr style=\"text-align: right;\">\n",
       "      <th></th>\n",
       "      <th>BOROUGH</th>\n",
       "      <th>NEIGHBORHOOD</th>\n",
       "      <th>BUILDING CLASS CATEGORY</th>\n",
       "      <th>TAX CLASS AT PRESENT</th>\n",
       "      <th>BUILDING CLASS AT PRESENT</th>\n",
       "      <th>RESIDENTIAL UNITS</th>\n",
       "      <th>COMMERCIAL UNITS</th>\n",
       "      <th>TOTAL UNITS</th>\n",
       "      <th>LAND SQUARE FEET</th>\n",
       "      <th>GROSS SQUARE FEET</th>\n",
       "      <th>YEAR BUILT</th>\n",
       "      <th>TAX CLASS AT TIME OF SALE</th>\n",
       "      <th>BUILDING CLASS AT TIME OF SALE</th>\n",
       "      <th>SALE PRICE</th>\n",
       "      <th>SALE DATE</th>\n",
       "    </tr>\n",
       "  </thead>\n",
       "  <tbody>\n",
       "    <tr>\n",
       "      <th>0</th>\n",
       "      <td>Manhattan</td>\n",
       "      <td>CHINATOWN</td>\n",
       "      <td>22 STORE BUILDINGS</td>\n",
       "      <td>4</td>\n",
       "      <td>K4</td>\n",
       "      <td>1</td>\n",
       "      <td>3</td>\n",
       "      <td>4</td>\n",
       "      <td>892.0</td>\n",
       "      <td>1784.0</td>\n",
       "      <td>1920</td>\n",
       "      <td>4</td>\n",
       "      <td>K4</td>\n",
       "      <td>3000000.0</td>\n",
       "      <td>2017-07-31</td>\n",
       "    </tr>\n",
       "    <tr>\n",
       "      <th>1</th>\n",
       "      <td>Manhattan</td>\n",
       "      <td>CHINATOWN</td>\n",
       "      <td>22 STORE BUILDINGS</td>\n",
       "      <td>4</td>\n",
       "      <td>K4</td>\n",
       "      <td>0</td>\n",
       "      <td>2</td>\n",
       "      <td>2</td>\n",
       "      <td>1098.0</td>\n",
       "      <td>2712.0</td>\n",
       "      <td>1915</td>\n",
       "      <td>4</td>\n",
       "      <td>K4</td>\n",
       "      <td>2700000.0</td>\n",
       "      <td>2017-01-05</td>\n",
       "    </tr>\n",
       "    <tr>\n",
       "      <th>2</th>\n",
       "      <td>Manhattan</td>\n",
       "      <td>CLINTON</td>\n",
       "      <td>41 TAX CLASS 4 - OTHER</td>\n",
       "      <td>4</td>\n",
       "      <td>Z9</td>\n",
       "      <td>0</td>\n",
       "      <td>2</td>\n",
       "      <td>2</td>\n",
       "      <td>2510.0</td>\n",
       "      <td>336.0</td>\n",
       "      <td>1998</td>\n",
       "      <td>4</td>\n",
       "      <td>Z9</td>\n",
       "      <td>4700000.0</td>\n",
       "      <td>2017-02-01</td>\n",
       "    </tr>\n",
       "    <tr>\n",
       "      <th>3</th>\n",
       "      <td>Manhattan</td>\n",
       "      <td>EAST VILLAGE</td>\n",
       "      <td>02 TWO FAMILY DWELLINGS</td>\n",
       "      <td>1</td>\n",
       "      <td>B9</td>\n",
       "      <td>2</td>\n",
       "      <td>0</td>\n",
       "      <td>2</td>\n",
       "      <td>1275.0</td>\n",
       "      <td>2640.0</td>\n",
       "      <td>1899</td>\n",
       "      <td>1</td>\n",
       "      <td>B9</td>\n",
       "      <td>4000000.0</td>\n",
       "      <td>2017-06-08</td>\n",
       "    </tr>\n",
       "    <tr>\n",
       "      <th>4</th>\n",
       "      <td>Manhattan</td>\n",
       "      <td>GREENWICH VILLAGE-WEST</td>\n",
       "      <td>01 ONE FAMILY DWELLINGS</td>\n",
       "      <td>1</td>\n",
       "      <td>A5</td>\n",
       "      <td>1</td>\n",
       "      <td>0</td>\n",
       "      <td>1</td>\n",
       "      <td>384.0</td>\n",
       "      <td>1152.0</td>\n",
       "      <td>1901</td>\n",
       "      <td>1</td>\n",
       "      <td>A5</td>\n",
       "      <td>1375000.0</td>\n",
       "      <td>2016-10-07</td>\n",
       "    </tr>\n",
       "    <tr>\n",
       "      <th>...</th>\n",
       "      <td>...</td>\n",
       "      <td>...</td>\n",
       "      <td>...</td>\n",
       "      <td>...</td>\n",
       "      <td>...</td>\n",
       "      <td>...</td>\n",
       "      <td>...</td>\n",
       "      <td>...</td>\n",
       "      <td>...</td>\n",
       "      <td>...</td>\n",
       "      <td>...</td>\n",
       "      <td>...</td>\n",
       "      <td>...</td>\n",
       "      <td>...</td>\n",
       "      <td>...</td>\n",
       "    </tr>\n",
       "    <tr>\n",
       "      <th>17119</th>\n",
       "      <td>Staten Island</td>\n",
       "      <td>WOODROW</td>\n",
       "      <td>02 TWO FAMILY DWELLINGS</td>\n",
       "      <td>1</td>\n",
       "      <td>B9</td>\n",
       "      <td>2</td>\n",
       "      <td>0</td>\n",
       "      <td>2</td>\n",
       "      <td>3801.0</td>\n",
       "      <td>2704.0</td>\n",
       "      <td>1996</td>\n",
       "      <td>1</td>\n",
       "      <td>B9</td>\n",
       "      <td>610000.0</td>\n",
       "      <td>2016-12-05</td>\n",
       "    </tr>\n",
       "    <tr>\n",
       "      <th>17120</th>\n",
       "      <td>Staten Island</td>\n",
       "      <td>WOODROW</td>\n",
       "      <td>02 TWO FAMILY DWELLINGS</td>\n",
       "      <td>1</td>\n",
       "      <td>B2</td>\n",
       "      <td>2</td>\n",
       "      <td>0</td>\n",
       "      <td>2</td>\n",
       "      <td>3800.0</td>\n",
       "      <td>2700.0</td>\n",
       "      <td>1996</td>\n",
       "      <td>1</td>\n",
       "      <td>B2</td>\n",
       "      <td>168000.0</td>\n",
       "      <td>2017-01-19</td>\n",
       "    </tr>\n",
       "    <tr>\n",
       "      <th>17121</th>\n",
       "      <td>Staten Island</td>\n",
       "      <td>WOODROW</td>\n",
       "      <td>02 TWO FAMILY DWELLINGS</td>\n",
       "      <td>1</td>\n",
       "      <td>B2</td>\n",
       "      <td>2</td>\n",
       "      <td>0</td>\n",
       "      <td>2</td>\n",
       "      <td>3325.0</td>\n",
       "      <td>1300.0</td>\n",
       "      <td>1995</td>\n",
       "      <td>1</td>\n",
       "      <td>B2</td>\n",
       "      <td>509000.0</td>\n",
       "      <td>2016-10-31</td>\n",
       "    </tr>\n",
       "    <tr>\n",
       "      <th>17122</th>\n",
       "      <td>Staten Island</td>\n",
       "      <td>WOODROW</td>\n",
       "      <td>02 TWO FAMILY DWELLINGS</td>\n",
       "      <td>1</td>\n",
       "      <td>B9</td>\n",
       "      <td>2</td>\n",
       "      <td>0</td>\n",
       "      <td>2</td>\n",
       "      <td>2400.0</td>\n",
       "      <td>2575.0</td>\n",
       "      <td>1998</td>\n",
       "      <td>1</td>\n",
       "      <td>B9</td>\n",
       "      <td>450000.0</td>\n",
       "      <td>2016-11-28</td>\n",
       "    </tr>\n",
       "    <tr>\n",
       "      <th>17123</th>\n",
       "      <td>Staten Island</td>\n",
       "      <td>WOODROW</td>\n",
       "      <td>02 TWO FAMILY DWELLINGS</td>\n",
       "      <td>1</td>\n",
       "      <td>B9</td>\n",
       "      <td>2</td>\n",
       "      <td>0</td>\n",
       "      <td>2</td>\n",
       "      <td>2498.0</td>\n",
       "      <td>2377.0</td>\n",
       "      <td>1998</td>\n",
       "      <td>1</td>\n",
       "      <td>B9</td>\n",
       "      <td>550000.0</td>\n",
       "      <td>2017-04-21</td>\n",
       "    </tr>\n",
       "  </tbody>\n",
       "</table>\n",
       "<p>17124 rows × 15 columns</p>\n",
       "</div>"
      ],
      "text/plain": [
       "             BOROUGH            NEIGHBORHOOD  \\\n",
       "0          Manhattan               CHINATOWN   \n",
       "1          Manhattan               CHINATOWN   \n",
       "2          Manhattan                 CLINTON   \n",
       "3          Manhattan            EAST VILLAGE   \n",
       "4          Manhattan  GREENWICH VILLAGE-WEST   \n",
       "...              ...                     ...   \n",
       "17119  Staten Island                 WOODROW   \n",
       "17120  Staten Island                 WOODROW   \n",
       "17121  Staten Island                 WOODROW   \n",
       "17122  Staten Island                 WOODROW   \n",
       "17123  Staten Island                 WOODROW   \n",
       "\n",
       "                           BUILDING CLASS CATEGORY TAX CLASS AT PRESENT  \\\n",
       "0      22 STORE BUILDINGS                                             4   \n",
       "1      22 STORE BUILDINGS                                             4   \n",
       "2      41 TAX CLASS 4 - OTHER                                         4   \n",
       "3      02 TWO FAMILY DWELLINGS                                        1   \n",
       "4      01 ONE FAMILY DWELLINGS                                        1   \n",
       "...                                            ...                  ...   \n",
       "17119  02 TWO FAMILY DWELLINGS                                        1   \n",
       "17120  02 TWO FAMILY DWELLINGS                                        1   \n",
       "17121  02 TWO FAMILY DWELLINGS                                        1   \n",
       "17122  02 TWO FAMILY DWELLINGS                                        1   \n",
       "17123  02 TWO FAMILY DWELLINGS                                        1   \n",
       "\n",
       "      BUILDING CLASS AT PRESENT  RESIDENTIAL UNITS  COMMERCIAL UNITS  \\\n",
       "0                            K4                  1                 3   \n",
       "1                            K4                  0                 2   \n",
       "2                            Z9                  0                 2   \n",
       "3                            B9                  2                 0   \n",
       "4                            A5                  1                 0   \n",
       "...                         ...                ...               ...   \n",
       "17119                        B9                  2                 0   \n",
       "17120                        B2                  2                 0   \n",
       "17121                        B2                  2                 0   \n",
       "17122                        B9                  2                 0   \n",
       "17123                        B9                  2                 0   \n",
       "\n",
       "       TOTAL UNITS  LAND SQUARE FEET  GROSS SQUARE FEET YEAR BUILT  \\\n",
       "0                4             892.0             1784.0       1920   \n",
       "1                2            1098.0             2712.0       1915   \n",
       "2                2            2510.0              336.0       1998   \n",
       "3                2            1275.0             2640.0       1899   \n",
       "4                1             384.0             1152.0       1901   \n",
       "...            ...               ...                ...        ...   \n",
       "17119            2            3801.0             2704.0       1996   \n",
       "17120            2            3800.0             2700.0       1996   \n",
       "17121            2            3325.0             1300.0       1995   \n",
       "17122            2            2400.0             2575.0       1998   \n",
       "17123            2            2498.0             2377.0       1998   \n",
       "\n",
       "      TAX CLASS AT TIME OF SALE BUILDING CLASS AT TIME OF SALE  SALE PRICE  \\\n",
       "0                             4                             K4   3000000.0   \n",
       "1                             4                             K4   2700000.0   \n",
       "2                             4                             Z9   4700000.0   \n",
       "3                             1                             B9   4000000.0   \n",
       "4                             1                             A5   1375000.0   \n",
       "...                         ...                            ...         ...   \n",
       "17119                         1                             B9    610000.0   \n",
       "17120                         1                             B2    168000.0   \n",
       "17121                         1                             B2    509000.0   \n",
       "17122                         1                             B9    450000.0   \n",
       "17123                         1                             B9    550000.0   \n",
       "\n",
       "       SALE DATE  \n",
       "0     2017-07-31  \n",
       "1     2017-01-05  \n",
       "2     2017-02-01  \n",
       "3     2017-06-08  \n",
       "4     2016-10-07  \n",
       "...          ...  \n",
       "17119 2016-12-05  \n",
       "17120 2017-01-19  \n",
       "17121 2016-10-31  \n",
       "17122 2016-11-28  \n",
       "17123 2017-04-21  \n",
       "\n",
       "[17124 rows x 15 columns]"
      ]
     },
     "execution_count": 34,
     "metadata": {},
     "output_type": "execute_result"
    }
   ],
   "source": [
    "# menampilkan final data setelah data cleaning dan data preprocessing\n",
    "df"
   ]
  },
  {
   "cell_type": "code",
   "execution_count": 35,
   "id": "5ab14c1b",
   "metadata": {},
   "outputs": [
    {
     "data": {
      "text/html": [
       "<div>\n",
       "<style scoped>\n",
       "    .dataframe tbody tr th:only-of-type {\n",
       "        vertical-align: middle;\n",
       "    }\n",
       "\n",
       "    .dataframe tbody tr th {\n",
       "        vertical-align: top;\n",
       "    }\n",
       "\n",
       "    .dataframe thead th {\n",
       "        text-align: right;\n",
       "    }\n",
       "</style>\n",
       "<table border=\"1\" class=\"dataframe\">\n",
       "  <thead>\n",
       "    <tr style=\"text-align: right;\">\n",
       "      <th></th>\n",
       "      <th>RESIDENTIAL UNITS</th>\n",
       "      <th>COMMERCIAL UNITS</th>\n",
       "      <th>TOTAL UNITS</th>\n",
       "      <th>LAND SQUARE FEET</th>\n",
       "      <th>GROSS SQUARE FEET</th>\n",
       "      <th>SALE PRICE</th>\n",
       "    </tr>\n",
       "  </thead>\n",
       "  <tbody>\n",
       "    <tr>\n",
       "      <th>count</th>\n",
       "      <td>17124.000000</td>\n",
       "      <td>17124.000000</td>\n",
       "      <td>17124.000000</td>\n",
       "      <td>17124.000000</td>\n",
       "      <td>17124.000000</td>\n",
       "      <td>1.712400e+04</td>\n",
       "    </tr>\n",
       "    <tr>\n",
       "      <th>mean</th>\n",
       "      <td>1.581640</td>\n",
       "      <td>0.043097</td>\n",
       "      <td>1.623569</td>\n",
       "      <td>2303.453399</td>\n",
       "      <td>1710.510512</td>\n",
       "      <td>6.596901e+05</td>\n",
       "    </tr>\n",
       "    <tr>\n",
       "      <th>std</th>\n",
       "      <td>0.767593</td>\n",
       "      <td>0.259177</td>\n",
       "      <td>0.774058</td>\n",
       "      <td>648.035645</td>\n",
       "      <td>538.455817</td>\n",
       "      <td>4.364258e+05</td>\n",
       "    </tr>\n",
       "    <tr>\n",
       "      <th>min</th>\n",
       "      <td>0.000000</td>\n",
       "      <td>0.000000</td>\n",
       "      <td>1.000000</td>\n",
       "      <td>200.000000</td>\n",
       "      <td>150.000000</td>\n",
       "      <td>1.007000e+05</td>\n",
       "    </tr>\n",
       "    <tr>\n",
       "      <th>25%</th>\n",
       "      <td>1.000000</td>\n",
       "      <td>0.000000</td>\n",
       "      <td>1.000000</td>\n",
       "      <td>1900.000000</td>\n",
       "      <td>1292.000000</td>\n",
       "      <td>4.050000e+05</td>\n",
       "    </tr>\n",
       "    <tr>\n",
       "      <th>50%</th>\n",
       "      <td>1.000000</td>\n",
       "      <td>0.000000</td>\n",
       "      <td>2.000000</td>\n",
       "      <td>2242.000000</td>\n",
       "      <td>1624.000000</td>\n",
       "      <td>5.500000e+05</td>\n",
       "    </tr>\n",
       "    <tr>\n",
       "      <th>75%</th>\n",
       "      <td>2.000000</td>\n",
       "      <td>0.000000</td>\n",
       "      <td>2.000000</td>\n",
       "      <td>2642.250000</td>\n",
       "      <td>2090.000000</td>\n",
       "      <td>7.800000e+05</td>\n",
       "    </tr>\n",
       "    <tr>\n",
       "      <th>max</th>\n",
       "      <td>12.000000</td>\n",
       "      <td>14.000000</td>\n",
       "      <td>14.000000</td>\n",
       "      <td>3998.000000</td>\n",
       "      <td>2999.000000</td>\n",
       "      <td>4.900000e+06</td>\n",
       "    </tr>\n",
       "  </tbody>\n",
       "</table>\n",
       "</div>"
      ],
      "text/plain": [
       "       RESIDENTIAL UNITS  COMMERCIAL UNITS   TOTAL UNITS  LAND SQUARE FEET  \\\n",
       "count       17124.000000      17124.000000  17124.000000      17124.000000   \n",
       "mean            1.581640          0.043097      1.623569       2303.453399   \n",
       "std             0.767593          0.259177      0.774058        648.035645   \n",
       "min             0.000000          0.000000      1.000000        200.000000   \n",
       "25%             1.000000          0.000000      1.000000       1900.000000   \n",
       "50%             1.000000          0.000000      2.000000       2242.000000   \n",
       "75%             2.000000          0.000000      2.000000       2642.250000   \n",
       "max            12.000000         14.000000     14.000000       3998.000000   \n",
       "\n",
       "       GROSS SQUARE FEET    SALE PRICE  \n",
       "count       17124.000000  1.712400e+04  \n",
       "mean         1710.510512  6.596901e+05  \n",
       "std           538.455817  4.364258e+05  \n",
       "min           150.000000  1.007000e+05  \n",
       "25%          1292.000000  4.050000e+05  \n",
       "50%          1624.000000  5.500000e+05  \n",
       "75%          2090.000000  7.800000e+05  \n",
       "max          2999.000000  4.900000e+06  "
      ]
     },
     "execution_count": 35,
     "metadata": {},
     "output_type": "execute_result"
    }
   ],
   "source": [
    "# menampilkan final data describe setelah data cleaning dan data preprocessing\n",
    "df.describe()"
   ]
  },
  {
   "cell_type": "markdown",
   "id": "c57a6fca",
   "metadata": {},
   "source": [
    "## Measure of Central Tendency : Mean"
   ]
  },
  {
   "cell_type": "markdown",
   "id": "8109d5a7",
   "metadata": {},
   "source": [
    "#### Berapa rata-rata harga penjualan properti di setiap wilayah?"
   ]
  },
  {
   "cell_type": "code",
   "execution_count": 36,
   "id": "aa6971db",
   "metadata": {
    "scrolled": true
   },
   "outputs": [
    {
     "data": {
      "text/html": [
       "<div>\n",
       "<style scoped>\n",
       "    .dataframe tbody tr th:only-of-type {\n",
       "        vertical-align: middle;\n",
       "    }\n",
       "\n",
       "    .dataframe tbody tr th {\n",
       "        vertical-align: top;\n",
       "    }\n",
       "\n",
       "    .dataframe thead th {\n",
       "        text-align: right;\n",
       "    }\n",
       "</style>\n",
       "<table border=\"1\" class=\"dataframe\">\n",
       "  <thead>\n",
       "    <tr style=\"text-align: right;\">\n",
       "      <th></th>\n",
       "      <th>SALE PRICE</th>\n",
       "    </tr>\n",
       "    <tr>\n",
       "      <th>BOROUGH</th>\n",
       "      <th></th>\n",
       "    </tr>\n",
       "  </thead>\n",
       "  <tbody>\n",
       "    <tr>\n",
       "      <th>Manhattan</th>\n",
       "      <td>2.044357e+06</td>\n",
       "    </tr>\n",
       "    <tr>\n",
       "      <th>Bronx</th>\n",
       "      <td>4.460411e+05</td>\n",
       "    </tr>\n",
       "    <tr>\n",
       "      <th>Brooklyn</th>\n",
       "      <td>8.833914e+05</td>\n",
       "    </tr>\n",
       "    <tr>\n",
       "      <th>Queens</th>\n",
       "      <td>6.218479e+05</td>\n",
       "    </tr>\n",
       "    <tr>\n",
       "      <th>Staten Island</th>\n",
       "      <td>4.402367e+05</td>\n",
       "    </tr>\n",
       "  </tbody>\n",
       "</table>\n",
       "</div>"
      ],
      "text/plain": [
       "                 SALE PRICE\n",
       "BOROUGH                    \n",
       "Manhattan      2.044357e+06\n",
       "Bronx          4.460411e+05\n",
       "Brooklyn       8.833914e+05\n",
       "Queens         6.218479e+05\n",
       "Staten Island  4.402367e+05"
      ]
     },
     "execution_count": 36,
     "metadata": {},
     "output_type": "execute_result"
    }
   ],
   "source": [
    "# mengetahui rata-rata harga properti di masing-masing wilayah\n",
    "mean_of_spborough = df.groupby(['BOROUGH'])[['SALE PRICE']].mean()\n",
    "mean_of_spborough"
   ]
  },
  {
   "cell_type": "markdown",
   "id": "08fb34ad",
   "metadata": {},
   "source": [
    "Keterangan:\n",
    "1. Area Manhattan memiliki rata rata sale price sebesar 2.044.357\n",
    "2. Area Bronx memiliki rata rata sale price sebesar 446.041\n",
    "3. Area Brooklyn memiliki memiliki rata rata sale price sebesar 883.391\n",
    "4. Area Queens memiliki rata rata sale price sebesar 621.847\n",
    "5. Area Staten Islands memiliki rata rata sale price sebesar 440.236"
   ]
  },
  {
   "cell_type": "code",
   "execution_count": 37,
   "id": "3dadbd21",
   "metadata": {
    "scrolled": true
   },
   "outputs": [
    {
     "data": {
      "image/png": "[encoded data removed]",
      "text/plain": [
       "<Figure size 1080x720 with 1 Axes>"
      ]
     },
     "metadata": {
      "needs_background": "light"
     },
     "output_type": "display_data"
    }
   ],
   "source": [
    "# menampilkan visualisasi data rata-rata harga properti di masing-masing wilayah\n",
    "mean_of_spborough.plot(kind = 'bar', figsize = (15, 10), color = 'brown')\n",
    "\n",
    "plt.title('Harga Rata-Rata Penjualan Properti di Setiap Wilayah')\n",
    "plt.xlabel('Wilayah')\n",
    "plt.ylabel('Harga Rataan Penjualan')\n",
    "plt.show()"
   ]
  },
  {
   "cell_type": "markdown",
   "id": "ce16adef",
   "metadata": {},
   "source": [
    "## Measure of Central Tendency : Median"
   ]
  },
  {
   "cell_type": "markdown",
   "id": "7d0af905",
   "metadata": {},
   "source": [
    "#### Berapa median/nilai tengah harga penjualan properti berdasarkan 7 building class category tertinggi?"
   ]
  },
  {
   "cell_type": "code",
   "execution_count": 38,
   "id": "66b85425",
   "metadata": {},
   "outputs": [
    {
     "data": {
      "text/html": [
       "<div>\n",
       "<style scoped>\n",
       "    .dataframe tbody tr th:only-of-type {\n",
       "        vertical-align: middle;\n",
       "    }\n",
       "\n",
       "    .dataframe tbody tr th {\n",
       "        vertical-align: top;\n",
       "    }\n",
       "\n",
       "    .dataframe thead th {\n",
       "        text-align: right;\n",
       "    }\n",
       "</style>\n",
       "<table border=\"1\" class=\"dataframe\">\n",
       "  <thead>\n",
       "    <tr style=\"text-align: right;\">\n",
       "      <th></th>\n",
       "      <th>SALE PRICE</th>\n",
       "    </tr>\n",
       "    <tr>\n",
       "      <th>BUILDING CLASS CATEGORY</th>\n",
       "      <th></th>\n",
       "    </tr>\n",
       "  </thead>\n",
       "  <tbody>\n",
       "    <tr>\n",
       "      <th>38 ASYLUMS AND HOMES</th>\n",
       "      <td>3400000.0</td>\n",
       "    </tr>\n",
       "    <tr>\n",
       "      <th>07 RENTALS - WALKUP APARTMENTS</th>\n",
       "      <td>1169591.0</td>\n",
       "    </tr>\n",
       "    <tr>\n",
       "      <th>30 WAREHOUSES</th>\n",
       "      <td>1100000.0</td>\n",
       "    </tr>\n",
       "    <tr>\n",
       "      <th>32 HOSPITAL AND HEALTH FACILITIES</th>\n",
       "      <td>975000.0</td>\n",
       "    </tr>\n",
       "    <tr>\n",
       "      <th>14 RENTALS - 4-10 UNIT</th>\n",
       "      <td>950000.0</td>\n",
       "    </tr>\n",
       "    <tr>\n",
       "      <th>06 TAX CLASS 1 - OTHER</th>\n",
       "      <td>892500.0</td>\n",
       "    </tr>\n",
       "    <tr>\n",
       "      <th>03 THREE FAMILY DWELLINGS</th>\n",
       "      <td>790000.0</td>\n",
       "    </tr>\n",
       "  </tbody>\n",
       "</table>\n",
       "</div>"
      ],
      "text/plain": [
       "                                             SALE PRICE\n",
       "BUILDING CLASS CATEGORY                                \n",
       "38 ASYLUMS AND HOMES                          3400000.0\n",
       "07 RENTALS - WALKUP APARTMENTS                1169591.0\n",
       "30 WAREHOUSES                                 1100000.0\n",
       "32 HOSPITAL AND HEALTH FACILITIES              975000.0\n",
       "14 RENTALS - 4-10 UNIT                         950000.0\n",
       "06 TAX CLASS 1 - OTHER                         892500.0\n",
       "03 THREE FAMILY DWELLINGS                      790000.0"
      ]
     },
     "execution_count": 38,
     "metadata": {},
     "output_type": "execute_result"
    }
   ],
   "source": [
    "# mengetahui nilai tengah harga penjualan berdasarkan 7 building class category tertinggi\n",
    "med_spb = df.groupby(['BUILDING CLASS CATEGORY'])[['SALE PRICE']].median().sort_values(by = 'SALE PRICE', ascending = False)\n",
    "med_spb7 = med_spb.head(7)\n",
    "med_spb7"
   ]
  },
  {
   "cell_type": "markdown",
   "id": "d4e89a2a",
   "metadata": {},
   "source": [
    "Keterangan:\n",
    "\n",
    "1. Kategori RENTALS - ELEVATOR APARTMENTS memiliki nilai tengah sale price sebesar 3.400.000\n",
    "2. Kategori HOSPITAL AND HEALTH FACILITIES memiliki nilai tengah sale price sebesar 1.169.591\n",
    "3. Kategori ASYLUMS AND HOMES memiliki nilai tengah sale price sebesar 1.100.000\n",
    "4. Kategori FACTORIES memiliki nilai tengah sale price sebesar 975.000\n",
    "5. Kategori WAREHOUSES memiliki nilai tengah sale price sebesar 950.000\n",
    "6. Kategori LOFT BUILDINGS memiliki nilai tengah sale price sebesar 892.500\n",
    "7. Kategori RENTALS - 4-10 UNIT memiliki nilai tengah sale price sebesar 790.000"
   ]
  },
  {
   "cell_type": "code",
   "execution_count": 39,
   "id": "15f37f64",
   "metadata": {},
   "outputs": [
    {
     "data": {
      "image/png": "[encoded data removed]",
      "text/plain": [
       "<Figure size 1080x720 with 1 Axes>"
      ]
     },
     "metadata": {
      "needs_background": "light"
     },
     "output_type": "display_data"
    }
   ],
   "source": [
    "# menampilkan visualisasi nilai tengah harga penjualan berdasarkan 7 building class category tertinggi\n",
    "med_spb7.plot(kind = 'bar', figsize = (15, 10), color = 'teal')\n",
    "\n",
    "plt.title('Median Harga Penjualan berdasarkan 7 Building Class Category Tertinggi')\n",
    "plt.xlabel('Building Class Category')\n",
    "plt.ylabel('Median Harga Penjualan')\n",
    "plt.show()"
   ]
  },
  {
   "cell_type": "markdown",
   "id": "cdd19124",
   "metadata": {},
   "source": [
    "## Measure of Central Tendency : Modus"
   ]
  },
  {
   "cell_type": "markdown",
   "id": "754a21c9",
   "metadata": {},
   "source": [
    "#### Wilayah dan daerah apa yang paling banyak terjual?"
   ]
  },
  {
   "cell_type": "code",
   "execution_count": 40,
   "id": "a69578f4",
   "metadata": {},
   "outputs": [
    {
     "name": "stdout",
     "output_type": "stream",
     "text": [
      "Mode Borough       : Queens\n",
      "Mode Neighborhood  : EAST NEW YORK\n"
     ]
    }
   ],
   "source": [
    "# mengetahui modus wilayah dan daerah \n",
    "print(\"Mode Borough       :\" , df['BOROUGH'].mode()[0])\n",
    "print(\"Mode Neighborhood  :\" , df['NEIGHBORHOOD'].mode()[0])"
   ]
  },
  {
   "cell_type": "markdown",
   "id": "b1d952d6",
   "metadata": {},
   "source": [
    "Keterangan:\n",
    "\n",
    "Queens merupakan wilayah dengan penjualan properti terbanyak dan EAST NEW YORK merupakan daerah yang memiliki properti terbanyak yang dijual di NYC"
   ]
  },
  {
   "cell_type": "markdown",
   "id": "9f999d12",
   "metadata": {},
   "source": [
    "#### Kategori kelas bangunan apakah yang paling sering terjual di wilayah Queens?"
   ]
  },
  {
   "cell_type": "code",
   "execution_count": 41,
   "id": "978ebb73",
   "metadata": {},
   "outputs": [
    {
     "data": {
      "text/plain": [
       "'01 ONE FAMILY DWELLINGS                    '"
      ]
     },
     "execution_count": 41,
     "metadata": {},
     "output_type": "execute_result"
    }
   ],
   "source": [
    "# mengetahui kategori kelas bangunan yang paling banyak terjual di Queens\n",
    "bor_que = df['BOROUGH'] == 'Queens'\n",
    "statistics.mode(df[bor_que]['BUILDING CLASS CATEGORY'])"
   ]
  },
  {
   "cell_type": "markdown",
   "id": "9903abd4",
   "metadata": {},
   "source": [
    "Keterangan:\n",
    "\n",
    "Kategori kelas bangunan yang paling banyak terjual di wilayah Queens adalah 01 ONE FAMILY DWELLINGS"
   ]
  },
  {
   "cell_type": "markdown",
   "id": "a0bc234b",
   "metadata": {},
   "source": [
    "## Measure of Spread : Range"
   ]
  },
  {
   "cell_type": "markdown",
   "id": "7486b308",
   "metadata": {},
   "source": [
    "#### Berapa range luas Land Square Feet dan Gross Square Feet?"
   ]
  },
  {
   "cell_type": "code",
   "execution_count": 42,
   "id": "80a8115e",
   "metadata": {},
   "outputs": [
    {
     "name": "stdout",
     "output_type": "stream",
     "text": [
      "Range Land Square Feet:  3798.0\n",
      "Range Gross Square Feet:  2849.0\n"
     ]
    }
   ],
   "source": [
    "# mengetahui range land square feet dan gross square feet\n",
    "print('Range Land Square Feet: ', np.ptp(df['LAND SQUARE FEET']))\n",
    "print('Range Gross Square Feet: ', np.ptp(df['GROSS SQUARE FEET']))"
   ]
  },
  {
   "cell_type": "markdown",
   "id": "c5fe8896",
   "metadata": {},
   "source": [
    "## Measure of Spread : Variance"
   ]
  },
  {
   "cell_type": "markdown",
   "id": "b09d8ff7",
   "metadata": {},
   "source": [
    "#### Berapa variansi luas Land Square Feet dan Gross Square Feet?"
   ]
  },
  {
   "cell_type": "code",
   "execution_count": 43,
   "id": "e6a2c64b",
   "metadata": {},
   "outputs": [
    {
     "name": "stdout",
     "output_type": "stream",
     "text": [
      "Variansi Land Square Feet:  419950.1966835364\n",
      "Variansi Gross Square Feet:  289934.6666535022\n"
     ]
    }
   ],
   "source": [
    "# mengetahui variansi land square feet dan gross square feet\n",
    "print('Variansi Land Square Feet: ', statistics.variance(df['LAND SQUARE FEET']))\n",
    "print('Variansi Gross Square Feet: ', statistics.variance(df['GROSS SQUARE FEET']))"
   ]
  },
  {
   "cell_type": "markdown",
   "id": "b7e3160c",
   "metadata": {},
   "source": [
    "## Measure of Spread : Standard Deviation"
   ]
  },
  {
   "cell_type": "markdown",
   "id": "8e0d938b",
   "metadata": {},
   "source": [
    "#### Berapa standar deviasi luas Land Square Feet dan Gross Square Feet?"
   ]
  },
  {
   "cell_type": "code",
   "execution_count": 44,
   "id": "1b933e3a",
   "metadata": {},
   "outputs": [
    {
     "name": "stdout",
     "output_type": "stream",
     "text": [
      "Standar Deviasi Land Square Feet:  648.035644608795\n",
      "Standar Deviasi Gross Square Feet:  538.4558168071937\n"
     ]
    }
   ],
   "source": [
    "# mengetahui stdev land square feet dan gross square feet\n",
    "print('Standar Deviasi Land Square Feet: ', statistics.stdev(df['LAND SQUARE FEET']))\n",
    "print('Standar Deviasi Gross Square Feet: ', statistics.stdev(df['GROSS SQUARE FEET']))"
   ]
  },
  {
   "cell_type": "markdown",
   "id": "082411bc",
   "metadata": {},
   "source": [
    "## Probability Distribution"
   ]
  },
  {
   "cell_type": "markdown",
   "id": "688eb570",
   "metadata": {},
   "source": [
    "#### Bagaimana distribusi peluang dari SALE PRICE?"
   ]
  },
  {
   "cell_type": "code",
   "execution_count": 45,
   "id": "c23926f3",
   "metadata": {},
   "outputs": [
    {
     "data": {
      "text/plain": [
       "<AxesSubplot:xlabel='SALE PRICE', ylabel='Density'>"
      ]
     },
     "execution_count": 45,
     "metadata": {},
     "output_type": "execute_result"
    },
    {
     "data": {
      "image/png": "[encoded data removed]",
      "text/plain": [
       "<Figure size 432x288 with 1 Axes>"
      ]
     },
     "metadata": {
      "needs_background": "light"
     },
     "output_type": "display_data"
    }
   ],
   "source": [
    "# distribusi dataset awal kolom SALE PRICE\n",
    "sns.distplot(df['SALE PRICE'], kde = True, bins = 50)"
   ]
  },
  {
   "cell_type": "code",
   "execution_count": 46,
   "id": "61a41403",
   "metadata": {},
   "outputs": [
    {
     "data": {
      "text/plain": [
       "count    1.712400e+04\n",
       "mean     6.596901e+05\n",
       "std      4.364258e+05\n",
       "min      1.007000e+05\n",
       "25%      4.050000e+05\n",
       "50%      5.500000e+05\n",
       "75%      7.800000e+05\n",
       "max      4.900000e+06\n",
       "Name: SALE PRICE, dtype: float64"
      ]
     },
     "execution_count": 46,
     "metadata": {},
     "output_type": "execute_result"
    }
   ],
   "source": [
    "# deskripsi data sale price sebelum normalisasi\n",
    "df['SALE PRICE'].describe()"
   ]
  },
  {
   "cell_type": "markdown",
   "id": "c9431c04",
   "metadata": {},
   "source": [
    "Dari dataset awal, setelah melakukan penghapusan outlier pada kolom SALE PRICE yang mana dalam analisis kali ini hanya menggunakan nilai dalam rentang 100.000 hingga 5.000.000 pada kolom tersebut. Selanjutnya, akan dilakukan normalisasi data dengan tujuan mengatasi/menghindari redundansi data. Pada analisis kali ini, normalisasi dilakukan dengan mengubah data berdistribusi log-normal. Kemudian, akan dilihat distribusi peluang dari kolom SALE PRICE."
   ]
  },
  {
   "cell_type": "code",
   "execution_count": 47,
   "id": "18c70c66",
   "metadata": {},
   "outputs": [
    {
     "name": "stdout",
     "output_type": "stream",
     "text": [
      "0.20765021138599168\n"
     ]
    },
    {
     "data": {
      "text/plain": [
       "<AxesSubplot:xlabel='SALE PRICE', ylabel='Density'>"
      ]
     },
     "execution_count": 47,
     "metadata": {},
     "output_type": "execute_result"
    },
    {
     "data": {
      "image/png": "[encoded data removed]",
      "text/plain": [
       "<Figure size 432x288 with 1 Axes>"
      ]
     },
     "metadata": {
      "needs_background": "light"
     },
     "output_type": "display_data"
    }
   ],
   "source": [
    "# normalisasi sale price\n",
    "df_saleprice = np.log(df['SALE PRICE'])\n",
    "print(df_saleprice.skew())\n",
    "sns.distplot(df_saleprice)"
   ]
  },
  {
   "cell_type": "code",
   "execution_count": 48,
   "id": "abdcf80c",
   "metadata": {},
   "outputs": [
    {
     "data": {
      "text/plain": [
       "count    17124.000000\n",
       "mean        13.242955\n",
       "std          0.544693\n",
       "min         11.519901\n",
       "25%         12.911642\n",
       "50%         13.217674\n",
       "75%         13.567049\n",
       "max         15.404746\n",
       "Name: SALE PRICE, dtype: float64"
      ]
     },
     "execution_count": 48,
     "metadata": {},
     "output_type": "execute_result"
    }
   ],
   "source": [
    "# deskripsi data setelah normalisasi\n",
    "df_saleprice.describe()"
   ]
  },
  {
   "cell_type": "markdown",
   "id": "858ece06",
   "metadata": {},
   "source": [
    "Kesimpulan :\n",
    "\n",
    "Setelah dilakukan normalisasi data dengan menggunakan transformasi log, distribusi data SALE PRICE mrnjadi normal secara visual maupun secara statistik. Sehingga, kolom SALE PRICE menjadi berdistribusi normal."
   ]
  },
  {
   "cell_type": "markdown",
   "id": "8b2c50b4",
   "metadata": {},
   "source": [
    "## Confidence Intervals"
   ]
  },
  {
   "cell_type": "markdown",
   "id": "92d6def6",
   "metadata": {},
   "source": [
    "#### Berapa interval kepercayaan terhadap rataan harga penjualan properti di NYC?"
   ]
  },
  {
   "cell_type": "code",
   "execution_count": 49,
   "id": "1abd153c",
   "metadata": {},
   "outputs": [
    {
     "name": "stdout",
     "output_type": "stream",
     "text": [
      "[ 653152.980243653 , 666227.2242646395 ]\n"
     ]
    }
   ],
   "source": [
    "# definisikan x sebagai kolom SALE PRICE\n",
    "df_sp = df['SALE PRICE'] \n",
    "\n",
    "# menghitung nilai mean, stdev, dan ukuran sampel dari kolom SALE PRICE\n",
    "mean = df_sp.mean()\n",
    "std = df_sp.std()\n",
    "n = df_sp.count()\n",
    "\n",
    "# degree of freedom atau derajat bebas untuk menentukan nilai statistik uji\n",
    "dof = len(df_sp) - 1 \n",
    "\n",
    "# menggunakan peluang kepercayaan sebesar 95%\n",
    "confidence = 0.95\n",
    "\n",
    "# menghitung nilai z-score atau nilai statistik uji\n",
    "z_score = np.abs(t.ppf((1 - confidence) / 2, dof))\n",
    "\n",
    "# menghitung nilai standard error\n",
    "s_e = std / np.sqrt(n)\n",
    "\n",
    "# lower and upper limit of confidence intervals\n",
    "lower = mean - z_score * s_e\n",
    "upper = mean + z_score * s_e\n",
    "\n",
    "print(\"[\", lower, \",\", upper, \"]\")\n",
    "#print('Interval kepercayaan:' lower, 'hingga', upper)"
   ]
  },
  {
   "cell_type": "markdown",
   "id": "40a182a9",
   "metadata": {},
   "source": [
    "Berdasarkan hasil di atas, diketahui bahwa rataan harga penjualan properti (SALE PRICE) di wilayah NYC berada di antara rentang 653.152 USD hingga 666.227 USD dengan peluang kepercayaan 0.95 atau 95%."
   ]
  },
  {
   "cell_type": "markdown",
   "id": "3260e21a",
   "metadata": {},
   "source": [
    "## Hypothesis Testing"
   ]
  },
  {
   "cell_type": "markdown",
   "id": "21ad9d51",
   "metadata": {},
   "source": [
    "#### Apakah wilayah Bronx  memiliki rata-rata harga penjualan yang lebih tinggi dibandingkan wilayah di Staten Island?"
   ]
  },
  {
   "cell_type": "markdown",
   "id": "dbfed24c",
   "metadata": {},
   "source": [
    "Berdasarkan analisis statistik deskriptif yang dilakukan sebelumnya, diperoleh bahwa properti di wilayah Bronx memiliki harga penjualan yang lebih tinggi dibandingkan wilayah di wilayah Staten Island. Sehingga, akan diuji apakah data tersebut menyajikan bukti yang cukup untuk menunjukkan bahwa rata-rata harga penjualan Bronx lebih tinggi dibandingkan Sataten Island menggunakan Student's t-test?\n",
    "\n",
    "Parameter:\n",
    "* μ1 = harga penjualan di wilayah Bronx\n",
    "* μ2 = harga penjualan di wilayah Staten Island\n",
    "\n",
    "Tingkat signifikansi:\n",
    "* α = 5% = 0,05\n",
    "\n",
    "Hipotesis: \n",
    "* H0 : μ1 = μ2 (harga penjualan di wilayah Bronx memiliki rata-rata yang sama dengan harga penjualan di wilayah Staten Island)\n",
    "* H1 : μ1 > μ2 (harga penjualan di wilayah Bronx memiliki rata-rata yang lebih tinggi daripada harga penjualan di wilayah Staten Island)\n",
    "> menggunakan hipotesis dengan\n",
    "one tailed test\n",
    "\n",
    "\n",
    "Syarat penolakan H0 :\n",
    "* H0 ditolak jika nilai p-value < alpha = 0.05"
   ]
  },
  {
   "cell_type": "code",
   "execution_count": 50,
   "id": "936d81fd",
   "metadata": {},
   "outputs": [],
   "source": [
    "# memilih data yang akan dianalisis\n",
    "bx = df[df['BOROUGH'] == 'Bronx']['SALE PRICE']\n",
    "si = df[df['BOROUGH'] == 'Staten Island']['SALE PRICE']"
   ]
  },
  {
   "cell_type": "code",
   "execution_count": 51,
   "id": "6b6cb0f7",
   "metadata": {},
   "outputs": [
    {
     "name": "stdout",
     "output_type": "stream",
     "text": [
      "T test statistic:  1.2587411954968737\n",
      "p-value:  0.20818369502530745\n",
      "Probably the same distributions\n"
     ]
    }
   ],
   "source": [
    "# menghitung nilai t-test\n",
    "stat, p = ttest_ind(bx, si)\n",
    "\n",
    "print(\"T test statistic: \", format(stat))\n",
    "print(\"p-value: \", format(p))\n",
    "\n",
    "if p > 0.05:\n",
    "    print('Probably the same distributions')\n",
    "else:\n",
    "    print('Probably different distributions')"
   ]
  },
  {
   "cell_type": "markdown",
   "id": "5106d053",
   "metadata": {},
   "source": [
    "Berdasarkan hasil yang diperoleh, diketahui bahwa nilai p-value < 0,05 yang artinya _H0 ditolak_, sehingga tidak cukup bukti untuk menerima H0. Oleh karena itu, dapat disimpulkan bahwa harga penjualan di wilayah Bronx memiliki rata-rata yang lebih tinggi daripada harga penjualan di wilayah Staten Island. "
   ]
  }
 ],
 "metadata": {
  "kernelspec": {
   "display_name": "Python 3 (ipykernel)",
   "language": "python",
   "name": "python3"
  },
  "language_info": {
   "codemirror_mode": {
    "name": "ipython",
    "version": 3
   },
   "file_extension": ".py",
   "mimetype": "text/x-python",
   "name": "python",
   "nbconvert_exporter": "python",
   "pygments_lexer": "ipython3",
   "version": "3.10.9"
  }
 },
 "nbformat": 4,
 "nbformat_minor": 5
}
